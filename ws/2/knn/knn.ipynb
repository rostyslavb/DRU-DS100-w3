{
 "cells": [
  {
   "cell_type": "markdown",
   "metadata": {
    "collapsed": true
   },
   "source": [
    "# KNN"
   ]
  },
  {
   "cell_type": "code",
   "execution_count": 1,
   "metadata": {
    "collapsed": true
   },
   "outputs": [],
   "source": [
    "import numpy as np\n",
    "import pandas as pd\n",
    "import time\n",
    "from scipy.spatial.distance import euclidean\n",
    "from scipy import stats\n",
    "from matplotlib import pyplot as plt"
   ]
  },
  {
   "cell_type": "markdown",
   "metadata": {},
   "source": [
    "## Roadmap\n",
    "1. Calculate all distancies between known and unknown points\n",
    "2. Predict class of unknown point by the k nearest neighbours\n",
    "\n"
   ]
  },
  {
   "cell_type": "code",
   "execution_count": 16,
   "metadata": {
    "collapsed": true
   },
   "outputs": [],
   "source": [
    "def calc_all_distancies(data_x, unknown):\n",
    "    '''\n",
    "        Function calculates distancies between each pairs of known and unknown points\n",
    "    '''"
   ]
  },
  {
   "cell_type": "code",
   "execution_count": 17,
   "metadata": {
    "collapsed": true
   },
   "outputs": [],
   "source": [
    "def predict(dists, data_y, k):\n",
    "    '''\n",
    "        Function predicts the class of the unknown point by the k nearest neighbours\n",
    "    '''"
   ]
  },
  {
   "cell_type": "code",
   "execution_count": 18,
   "metadata": {
    "collapsed": true
   },
   "outputs": [],
   "source": [
    "def accuracy(predicted,real):\n",
    "    '''\n",
    "        Calculates accuracy percentage\n",
    "    '''"
   ]
  },
  {
   "cell_type": "code",
   "execution_count": 19,
   "metadata": {
    "collapsed": true
   },
   "outputs": [],
   "source": [
    "def compare_k(data_x, data_y, test_x, test_y, kmin=1, kmax=50, kstep=4):\n",
    "    '''\n",
    "        Main comparing function\n",
    "    '''\n",
    "    k = list(range(kmin, kmax, kstep))\n",
    "    steps = len(k)\n",
    "    features = np.zeros((steps,3))\n",
    "    \n",
    "    print('Evaluating distancies started')\n",
    "    \n",
    "    t0 = time.time()\n",
    "    distancies = calc_all_distancies(data_x,test_x)\n",
    "    miss = []\n",
    "    t = time.time()\n",
    "    s1 = data_x.shape[0]\n",
    "    s2 = test_x.shape[0]\n",
    "    \n",
    "    print('Distancies completed in %d seconds for %dx%d' %(t-t0,s1,s2))\n",
    "    \n",
    "    for j in range(steps):\n",
    "        t0 = time.time()\n",
    "        yk = predict(distancies,data_y,k[j])\n",
    "        t = time.time() - t0\n",
    "        features[j][0] = k[j]\n",
    "        features[j][1] = accuracy(yk,test_y)\n",
    "        features[j][2] = t\n",
    "        cond = yk!=test_y\n",
    "        miss.append({\n",
    "            'k':k[j],\n",
    "            'acc':features[j][1],\n",
    "            'x':test_x[cond]}\n",
    "        )\n",
    "        \n",
    "        print('k={0}, accuracy = {1}%, time = {2} sec'.format(k[j],features[j][1],features[j][2]))\n",
    "        \n",
    "    return features, miss"
   ]
  },
  {
   "cell_type": "code",
   "execution_count": 20,
   "metadata": {
    "collapsed": true
   },
   "outputs": [],
   "source": [
    "num_observations = 300\n",
    "x1 = np.random.multivariate_normal([0, 0], [[1, .75], [.75, 1]], num_observations)\n",
    "x2 = np.random.multivariate_normal([-2, 3], [[2, .75], [.75, 2]], num_observations)\n",
    "\n",
    "\n",
    "X = np.vstack((x1, x2)).astype(np.float32)\n",
    "Y = np.hstack((np.zeros(num_observations),\n",
    "               np.ones(num_observations)))\n",
    "\n"
   ]
  },
  {
   "cell_type": "markdown",
   "metadata": {},
   "source": [
    "## Select some part of data to be tested"
   ]
  },
  {
   "cell_type": "code",
   "execution_count": null,
   "metadata": {
    "collapsed": false
   },
   "outputs": [],
   "source": [
    "x_trn = \n",
    "y_trn = \n",
    "x_tst = \n",
    "y_tst = "
   ]
  },
  {
   "cell_type": "markdown",
   "metadata": {},
   "source": [
    "## Calculate distancies & compare result for different k"
   ]
  },
  {
   "cell_type": "code",
   "execution_count": null,
   "metadata": {
    "collapsed": false
   },
   "outputs": [],
   "source": [
    "res, ms = compare_k(x_trn, y_trn, x_tst, y_tst,1,201,20)"
   ]
  },
  {
   "cell_type": "markdown",
   "metadata": {},
   "source": [
    "## Visualisation"
   ]
  },
  {
   "cell_type": "code",
   "execution_count": null,
   "metadata": {
    "collapsed": false
   },
   "outputs": [],
   "source": [
    "# initial data\n",
    "fig = plt.figure()\n",
    "plt.scatter(x1[:, 0], x1[:, 1], color='c',label='class1')\n",
    "plt.scatter(x2[:, 0], x2[:, 1], color='y',label='class2')\n",
    "# randomly selected data\n",
    "plt.scatter(x_tst[:,0],x_tst[:,1],color='b',label='test')\n",
    "plt.legend(loc='best')\n",
    "\n",
    "\n",
    "# missidentifies for k = value\n",
    "plt.figure()\n",
    "plt.scatter(x1[:, 0], x1[:, 1], color='c', label='class1')\n",
    "plt.scatter(x2[:, 0], x2[:, 1], color='y', label='class2')\n",
    "plt.scatter(ms[-1]['x'][:,0],ms[-1]['x'][:,1],color='r',label='missidenity,k=%d'%ms[-1]['k'])\n",
    "plt.legend(loc='best')\n",
    "plt.xlabel('x1')\n",
    "plt.ylabel('x2')\n",
    "plt.figure()\n",
    "\n",
    "# accuracy plot\n",
    "k = plt.scatter(res[:, 0], res[:, 1])\n",
    "plt.ylim(min(res[:, 1]) - 2, max(res[:, 1])+1, 4)\n",
    "plt.xlabel('k')\n",
    "plt.ylabel('accuracy, %')\n",
    "plt.show()"
   ]
  }
 ],
 "metadata": {
  "kernelspec": {
   "display_name": "Python [conda env:python35]",
   "language": "python",
   "name": "conda-env-python35-py"
  },
  "language_info": {
   "codemirror_mode": {
    "name": "ipython",
    "version": 3
   },
   "file_extension": ".py",
   "mimetype": "text/x-python",
   "name": "python",
   "nbconvert_exporter": "python",
   "pygments_lexer": "ipython3",
   "version": "3.5.4"
  }
 },
 "nbformat": 4,
 "nbformat_minor": 0
}
