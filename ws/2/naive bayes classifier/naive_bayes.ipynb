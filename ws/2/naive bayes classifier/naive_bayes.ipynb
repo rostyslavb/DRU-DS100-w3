{
 "cells": [
  {
   "cell_type": "markdown",
   "metadata": {},
   "source": [
    "# Naive Bayes Classifier"
   ]
  },
  {
   "cell_type": "code",
   "execution_count": 1,
   "metadata": {
    "collapsed": true
   },
   "outputs": [],
   "source": [
    "import numpy as np"
   ]
  },
  {
   "cell_type": "markdown",
   "metadata": {},
   "source": [
    "$$f(x | \\mu, \\sigma) = \\frac{1}{\\sigma \\sqrt{2 \\pi}} e^{-\\frac{(x - \\mu)^2}{2\\sigma^2}}$$"
   ]
  },
  {
   "cell_type": "code",
   "execution_count": 22,
   "metadata": {
    "collapsed": true
   },
   "outputs": [],
   "source": [
    "class naivebayes_gauss(object):\n",
    "    \n",
    "    def __init__(self):\n",
    "        pass\n",
    "    \n",
    "    def _log_gauss(self, X, s):\n",
    "        '''\n",
    "                X - data, s - mean (0) and std (1) matrix\n",
    "        '''\n",
    "        return np.log(np.exp(-(((X-s[:,0])**2)/(2*s[:,1]**2)))/(s[:,1]*np.sqrt(2*np.pi)))\n",
    "    \n",
    "    def fit(self, X, y):\n",
    "        # separate data by class\n",
    "        separated = [X[y==c] for c in np.unique(y)]\n",
    "        \n",
    "        self.model = np.array([np.c_[c.mean(axis=0), c.std(axis=0)] for c in separated])\n",
    "        return self\n",
    "    \n",
    "    def predict_log_prob(self, X):\n",
    "        return np.array([self._log_gauss(X, s).sum(axis=1) for s in self.model])\n",
    "    \n",
    "    def predict(self, X):\n",
    "        return np.argmax(self.predict_log_prob(X), axis=0)\n",
    "\n",
    "    def score(self, X, y):\n",
    "        return np.where(self.predict(X) == y, True, False).sum() / y.shape[0] * 100"
   ]
  },
  {
   "cell_type": "code",
   "execution_count": 23,
   "metadata": {
    "collapsed": true
   },
   "outputs": [],
   "source": [
    "def split_train_test(dataset, split_ratio=0.67):\n",
    "    '''\n",
    "            split dataset to train and test data\n",
    "            dataset must contain features (X) and targets (y)\n",
    "            return 4 arrays: X_train, X_test, y_train, y_test\n",
    "    '''\n",
    "    # size of arrays\n",
    "    size = dataset.shape[0]\n",
    "    train_size = int(size * split_ratio)\n",
    "    \n",
    "    # random choosed indices\n",
    "    shuffled_indices = np.random.permutation(size)\n",
    "    \n",
    "    # split indicies for training and test set by `train_size`\n",
    "    train_indices, test_indices = shuffled_indices[:train_size], shuffled_indices[train_size:]\n",
    "    \n",
    "    # Create training and test sets by indicies\n",
    "    train, test = dataset[train_indices,:], dataset[test_indices,:]\n",
    "    \n",
    "    return train[:,:-1], test[:,:-1], train[:,-1], test[:,-1]"
   ]
  },
  {
   "cell_type": "markdown",
   "metadata": {},
   "source": [
    "## Pick data"
   ]
  },
  {
   "cell_type": "code",
   "execution_count": 29,
   "metadata": {},
   "outputs": [],
   "source": [
    "data = np.genfromtxt('data.csv', delimiter=',')\n",
    "X_train, X_test, y_train, y_test = split_train_test(data, split_ratio=0.67)"
   ]
  },
  {
   "cell_type": "code",
   "execution_count": 39,
   "metadata": {},
   "outputs": [
    {
     "data": {
      "text/plain": [
       "((342, 8), (2, 8, 2))"
      ]
     },
     "execution_count": 39,
     "metadata": {},
     "output_type": "execute_result"
    }
   ],
   "source": [
    "sep = np.array([X_train[y_train==c] for c in np.unique(y_train)])\n",
    "model = np.array([np.c_[c.mean(axis=0), c.std(axis=0)] for c in sep])\n",
    "model.shape"
   ]
  },
  {
   "cell_type": "markdown",
   "metadata": {},
   "source": [
    "## Test model"
   ]
  },
  {
   "cell_type": "code",
   "execution_count": 40,
   "metadata": {},
   "outputs": [
    {
     "name": "stdout",
     "output_type": "stream",
     "text": [
      "Accuracy on train set:  76.4591439689 %\n",
      "Accuracy on test set:  72.0472440945 %\n"
     ]
    }
   ],
   "source": [
    "nb_gauss = naivebayes_gauss()\n",
    "nb_gauss.fit(X_train, y_train)\n",
    "\n",
    "print('Accuracy on train set: ', nb_gauss.score(X_train, y_train), '%')\n",
    "print('Accuracy on test set: ', nb_gauss.score(X_test, y_test), '%')"
   ]
  },
  {
   "cell_type": "markdown",
   "metadata": {},
   "source": [
    "## Sklearn"
   ]
  },
  {
   "cell_type": "code",
   "execution_count": 27,
   "metadata": {},
   "outputs": [
    {
     "name": "stdout",
     "output_type": "stream",
     "text": [
      "Accuracy on train set:  77.4319066148 %\n",
      "Accuracy on test set:  74.0157480315 %\n"
     ]
    }
   ],
   "source": [
    "from sklearn.naive_bayes import GaussianNB\n",
    "nb_gauss_sk = GaussianNB()\n",
    "nb_gauss_sk.fit(X_train, y_train)\n",
    "\n",
    "print('Accuracy on train set: ', nb_gauss_sk.score(X_train, y_train)*100,  '%')\n",
    "print('Accuracy on test set: ', nb_gauss_sk.score(X_test, y_test)*100, '%')"
   ]
  }
 ],
 "metadata": {
  "kernelspec": {
   "display_name": "Python 3",
   "language": "python",
   "name": "python3"
  },
  "language_info": {
   "codemirror_mode": {
    "name": "ipython",
    "version": 3
   },
   "file_extension": ".py",
   "mimetype": "text/x-python",
   "name": "python",
   "nbconvert_exporter": "python",
   "pygments_lexer": "ipython3",
   "version": "3.6.2"
  },
  "toc": {
   "nav_menu": {},
   "number_sections": false,
   "sideBar": true,
   "skip_h1_title": true,
   "toc_cell": false,
   "toc_position": {},
   "toc_section_display": "block",
   "toc_window_display": false
  }
 },
 "nbformat": 4,
 "nbformat_minor": 2
}
