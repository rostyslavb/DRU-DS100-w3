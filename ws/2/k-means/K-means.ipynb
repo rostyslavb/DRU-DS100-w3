{
 "cells": [
  {
   "cell_type": "markdown",
   "metadata": {
    "collapsed": false
   },
   "source": [
    "# K-means"
   ]
  },
  {
   "cell_type": "code",
   "execution_count": 30,
   "metadata": {
    "collapsed": true
   },
   "outputs": [],
   "source": [
    "# necessary imports\n",
    "%matplotlib inline\n",
    "import matplotlib.pyplot as plt\n",
    "import numpy as np"
   ]
  },
  {
   "cell_type": "markdown",
   "metadata": {},
   "source": [
    "### Generate data"
   ]
  },
  {
   "cell_type": "code",
   "execution_count": 31,
   "metadata": {
    "collapsed": true
   },
   "outputs": [],
   "source": [
    "# Generate Data\n",
    "points = np.vstack(((np.random.randn(150, 2) * 0.75 + np.array([1, 0])),\n",
    "              (np.random.randn(50, 2) * 0.25 + np.array([-0.5, 0.5])),\n",
    "              (np.random.randn(50, 2) * 0.5 + np.array([-0.5, -0.5]))))"
   ]
  },
  {
   "cell_type": "markdown",
   "metadata": {},
   "source": [
    "### Main functions"
   ]
  },
  {
   "cell_type": "code",
   "execution_count": 32,
   "metadata": {
    "collapsed": true
   },
   "outputs": [],
   "source": [
    "def initialize_centroids(points, k):\n",
    "    '''\n",
    "        Selects k random points as initial\n",
    "        points from dataset\n",
    "    '''"
   ]
  },
  {
   "cell_type": "code",
   "execution_count": 1,
   "metadata": {
    "collapsed": true
   },
   "outputs": [],
   "source": [
    "def closest_centroid(points, centroids):\n",
    "    '''\n",
    "        Returns an array containing the index to the nearest centroid for each point\n",
    "    '''"
   ]
  },
  {
   "cell_type": "code",
   "execution_count": 2,
   "metadata": {
    "collapsed": true
   },
   "outputs": [],
   "source": [
    "def move_centroids(points, closest, centroids):\n",
    "    '''\n",
    "        Returns the new centroids assigned from the points closest to them\n",
    "    '''"
   ]
  },
  {
   "cell_type": "code",
   "execution_count": 39,
   "metadata": {
    "collapsed": true
   },
   "outputs": [],
   "source": [
    "def main(points):\n",
    "    num_iterations = 100\n",
    "    k = 3\n",
    "        \n",
    "    # Initialize centroids\n",
    "    centroids = initialize_centroids(points, 3)\n",
    "    \n",
    "    # Run iterative process\n",
    "    for i in range(num_iterations):\n",
    "        closest = closest_centroid(points, centroids)\n",
    "        centroids = move_centroids(points, closest, centroids)\n",
    "    \n",
    "    return centroids"
   ]
  },
  {
   "cell_type": "code",
   "execution_count": 40,
   "metadata": {
    "collapsed": true
   },
   "outputs": [],
   "source": [
    "centroids = main(points)"
   ]
  },
  {
   "cell_type": "code",
   "execution_count": null,
   "metadata": {
    "collapsed": false
   },
   "outputs": [],
   "source": [
    "centroids = initialize_centroids(points, 3)\n",
    "\n",
    "plt.scatter(points[:, 0], points[:, 1])\n",
    "plt.scatter(centroids[:, 0], centroids[:, 1], c='r', s=100)\n",
    "ax = plt.gca()"
   ]
  },
  {
   "cell_type": "code",
   "execution_count": null,
   "metadata": {
    "collapsed": false
   },
   "outputs": [],
   "source": [
    "closest = closest_centroid(points, centroids)\n",
    "centroids = move_centroids(points, closest, centroids)\n",
    "\n",
    "plt.scatter(points[:, 0], points[:, 1])\n",
    "plt.scatter(centroids[:, 0], centroids[:, 1], c='r', s=100)\n",
    "ax = plt.gca()"
   ]
  }
 ],
 "metadata": {
  "kernelspec": {
   "display_name": "Python [conda root]",
   "language": "python",
   "name": "conda-root-py"
  },
  "language_info": {
   "codemirror_mode": {
    "name": "ipython",
    "version": 3
   },
   "file_extension": ".py",
   "mimetype": "text/x-python",
   "name": "python",
   "nbconvert_exporter": "python",
   "pygments_lexer": "ipython3",
   "version": "3.6.0"
  }
 },
 "nbformat": 4,
 "nbformat_minor": 2
}
