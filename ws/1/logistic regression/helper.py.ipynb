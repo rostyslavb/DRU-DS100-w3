{
 "cells": [
  {
   "cell_type": "code",
   "execution_count": 1,
   "metadata": {
    "collapsed": true
   },
   "outputs": [],
   "source": [
    "def sigmoid(x):\n",
    "    '''1 / (1 + e^(-x))'''\n",
    "    return 1 / (1 + np.exp(-x))\n",
    "\n",
    "\n",
    "def log_likelihood(features, target, weights):\n",
    "    '''\n",
    "        U = sum(target * weights_tr * features - log(1 + exp(weights_tr * features)))\n",
    "    '''\n",
    "    scores = np.dot(features, weights)\n",
    "    ll = np.sum( target * scores - np.log(1 + np.exp(scores)) )\n",
    "    return ll\n",
    "\n",
    "\n",
    "def grad(features, target, predictions):\n",
    "    '''\n",
    "        grad(U) = features_tr * (target - predictions)\n",
    "    '''\n",
    "    \n",
    "    output_error_signal = target - predictions\n",
    "    gradient = np.dot(features.T, output_error_signal)\n",
    "    \n",
    "    return gradient\n",
    "\n",
    "def logistic_regression(features, target, num_steps, learning_rate):\n",
    "    # add free coefficients as 1\n",
    "    features = np.hstack(\n",
    "        (np.ones((features.shape[0], 1)),features))\n",
    "    \n",
    "    # initialize weights\n",
    "    weights = np.zeros(features.shape[1])\n",
    "    \n",
    "    # iterative process\n",
    "    for step in range(num_steps):\n",
    "        scores = np.dot(features, weights)\n",
    "        predictions = sigmoid(scores)\n",
    "\n",
    "        # Update weights with gradient\n",
    "        gradient = grad(features, target, predictions)\n",
    "        weights += learning_rate * gradient\n",
    "        \n",
    "        # Print log-likelihood every so often\n",
    "        if step % 10000 == 0:\n",
    "            print(log_likelihood(features, target, weights))\n",
    "        \n",
    "    return weights"
   ]
  }
 ],
 "metadata": {
  "kernelspec": {
   "display_name": "Python [conda env:python35]",
   "language": "python",
   "name": "conda-env-python35-py"
  },
  "language_info": {
   "codemirror_mode": {
    "name": "ipython",
    "version": 3
   },
   "file_extension": ".py",
   "mimetype": "text/x-python",
   "name": "python",
   "nbconvert_exporter": "python",
   "pygments_lexer": "ipython3",
   "version": "3.5.4"
  }
 },
 "nbformat": 4,
 "nbformat_minor": 2
}
