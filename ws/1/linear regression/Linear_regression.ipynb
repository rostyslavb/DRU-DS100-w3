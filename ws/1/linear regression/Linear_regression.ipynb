{
 "cells": [
  {
   "cell_type": "markdown",
   "metadata": {
    "collapsed": true
   },
   "source": [
    "## Linear regression"
   ]
  },
  {
   "cell_type": "code",
   "execution_count": 162,
   "metadata": {
    "collapsed": true
   },
   "outputs": [],
   "source": [
    "import numpy as np\n",
    "\n",
    "%matplotlib inline\n",
    "from mpl_toolkits import mplot3d\n",
    "import numpy as np\n",
    "import matplotlib.pyplot as plt"
   ]
  },
  {
   "cell_type": "code",
   "execution_count": 163,
   "metadata": {
    "collapsed": false
   },
   "outputs": [],
   "source": [
    "def linear_regression():\n",
    "    # Step # 1 - Extract data\n",
    "    points = ...\n",
    "    \n",
    "    # Step # 2 - Define hyperparameters\n",
    "    \n",
    "    ## Learning rate\n",
    "    learning_rate = ...\n",
    "    \n",
    "    ## Coefficients y = a * x + b\n",
    "    init_a = ...\n",
    "    init_b = ...\n",
    "    \n",
    "    ## number of iterations\n",
    "    num_iterations = ...\n",
    "    \n",
    "    # Step 3 - model training\n",
    "    \n",
    "    print(\n",
    "        'Start learning at a = {0}, b = {1}, error = {2}'.format(\n",
    "            init_a,\n",
    "            init_b,\n",
    "            compute_error(init_a, init_b, points)\n",
    "        )\n",
    "    )\n",
    "    \n",
    "    a, b = gradient_descent(init_a, init_b, points, learning_rate, num_iterations)\n",
    "    \n",
    "    print(\n",
    "        'End learning at a = {0}, b = {1}, error = {2}'.format(\n",
    "            a,\n",
    "            b,\n",
    "            compute_error(a, b, points)\n",
    "        )\n",
    "    )\n",
    "\n",
    "\n",
    "def compute_error(a, b, points):\n",
    "    '''\n",
    "        Computes Error = 1/N * sum((y - (ax + b))^2)\n",
    "    '''\n",
    "\n",
    "def gradient_descent(starting_a, starting_b, points, learning_rate, num_iterations):\n",
    "    '''\n",
    "        Performs gradient step num_iterations times\n",
    "        in order to find optimal a, b values\n",
    "    '''\n",
    "\n",
    "def gradient_step(current_a, current_b, points, learning_rate):\n",
    "    '''\n",
    "        Updates a and b in antigradient direction\n",
    "        with given learning_rate\n",
    "    '''"
   ]
  },
  {
   "cell_type": "code",
   "execution_count": null,
   "metadata": {
    "collapsed": false
   },
   "outputs": [],
   "source": [
    "a, b = linear_regression()"
   ]
  },
  {
   "cell_type": "markdown",
   "metadata": {},
   "source": [
    "## Plot Cost funstion"
   ]
  },
  {
   "cell_type": "code",
   "execution_count": 157,
   "metadata": {
    "collapsed": false
   },
   "outputs": [],
   "source": [
    "def plot_decorator(f):\n",
    "    points = np.genfromtxt('data.csv', delimiter=',')\n",
    "    \n",
    "    return lambda a, b: f(a, b, points)\n",
    "\n",
    "\n",
    "cost = plot_decorator(compute_error)"
   ]
  },
  {
   "cell_type": "code",
   "execution_count": 158,
   "metadata": {
    "collapsed": false
   },
   "outputs": [],
   "source": [
    "A = np.linspace(-10, 12, 40)\n",
    "B = np.linspace(-10, 12, 40)\n",
    "\n",
    "A, B = np.meshgrid(A, B)\n",
    "E = cost(A, B)"
   ]
  },
  {
   "cell_type": "code",
   "execution_count": null,
   "metadata": {
    "collapsed": false
   },
   "outputs": [],
   "source": [
    "fig = plt.figure()\n",
    "ax = plt.axes(projection='3d')\n",
    "ax.contour3D(A, B, E, 1000)\n",
    "ax.set_xlabel('a')\n",
    "ax.set_ylabel('b')\n",
    "ax.set_zlabel('cost')"
   ]
  },
  {
   "cell_type": "markdown",
   "metadata": {},
   "source": [
    "## Plot data and learned function"
   ]
  },
  {
   "cell_type": "code",
   "execution_count": null,
   "metadata": {
    "collapsed": false
   },
   "outputs": [],
   "source": [
    "X = points[:, 0]\n",
    "Y = points[:, 1]\n",
    "\n",
    "plt.xlim(0, 80)\n",
    "plt.ylim(0, 150)\n",
    "plt.scatter(X, Y)\n",
    "\n",
    "params = np.linspace(0, 150, 10)\n",
    "\n",
    "plt.plot(params, a * params + b)\n",
    "\n",
    "plt.show()\n"
   ]
  }
 ],
 "metadata": {
  "kernelspec": {
   "display_name": "Python [conda env:python35]",
   "language": "python",
   "name": "conda-env-python35-py"
  },
  "language_info": {
   "codemirror_mode": {
    "name": "ipython",
    "version": 3
   },
   "file_extension": ".py",
   "mimetype": "text/x-python",
   "name": "python",
   "nbconvert_exporter": "python",
   "pygments_lexer": "ipython3",
   "version": "3.5.4"
  }
 },
 "nbformat": 4,
 "nbformat_minor": 2
}
