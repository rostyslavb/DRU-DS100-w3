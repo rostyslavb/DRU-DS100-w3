{
 "cells": [
  {
   "cell_type": "markdown",
   "metadata": {},
   "source": [
    "# Linear regression with gradient descent"
   ]
  },
  {
   "cell_type": "code",
   "execution_count": 8,
   "metadata": {
    "collapsed": true
   },
   "outputs": [],
   "source": [
    "import numpy as np\n",
    "import matplotlib.pyplot as plt\n",
    "%matplotlib inline"
   ]
  },
  {
   "cell_type": "markdown",
   "metadata": {},
   "source": [
    "## Defining model"
   ]
  },
  {
   "cell_type": "code",
   "execution_count": 9,
   "metadata": {
    "collapsed": true
   },
   "outputs": [],
   "source": [
    "def error_func(theta, x, y):\n",
    "    m = x.shape[0]\n",
    "    d = np.dot(x, theta) - y\n",
    "    return np.dot(np.transpose(d), d) / m\n",
    "\n",
    "def gradient_func(theta, x, y):\n",
    "    # `gradient_func` = first derivative of `error_func`\n",
    "    m = x.shape[0]\n",
    "    d = np.dot(x, theta) - y\n",
    "    return (2/m) * np.dot(np.transpose(x), d)\n",
    "\n",
    "def my_linearRegression(X, Y, l_rate=0.001, accuracy=1e-5, start=None):\n",
    "    \n",
    "    #initializing coeff\n",
    "    if start is None:\n",
    "        theta = np.full((X.shape[1], 1), 0)\n",
    "    else:\n",
    "        theta = start\n",
    "    \n",
    "    grad = gradient_func(theta, X, Y)\n",
    "    \n",
    "    while not np.all(np.abs(grad) <= accuracy):\n",
    "        theta = theta - l_rate * grad\n",
    "        grad = gradient_func(theta, X, Y)\n",
    "    \n",
    "    return theta, error_func(theta, X, Y)"
   ]
  },
  {
   "cell_type": "markdown",
   "metadata": {},
   "source": [
    "## Testing model"
   ]
  },
  {
   "cell_type": "code",
   "execution_count": 10,
   "metadata": {},
   "outputs": [
    {
     "data": {
      "text/plain": [
       "(array([[ 7.85853467],\n",
       "        [ 1.325035  ]]), array([[ 110.25804614]]))"
      ]
     },
     "execution_count": 10,
     "metadata": {},
     "output_type": "execute_result"
    }
   ],
   "source": [
    "points = np.genfromtxt('data.csv', delimiter=',')\n",
    "ones = np.full((points.shape[0], 1), 1.)\n",
    "X = points[:, 0].reshape(100, 1)\n",
    "X = np.hstack((ones, X))\n",
    "Y = points[:, 1].reshape(100, 1)\n",
    "\n",
    "theta, err = my_linearRegression(X, Y, l_rate=0.0004, accuracy=0.01)\n",
    "theta, err"
   ]
  },
  {
   "cell_type": "markdown",
   "metadata": {},
   "source": [
    "## Sklearn to compare"
   ]
  },
  {
   "cell_type": "code",
   "execution_count": 11,
   "metadata": {
    "collapsed": true
   },
   "outputs": [],
   "source": [
    "from sklearn.linear_model import LinearRegression"
   ]
  },
  {
   "cell_type": "code",
   "execution_count": 12,
   "metadata": {},
   "outputs": [
    {
     "data": {
      "text/plain": [
       "LinearRegression(copy_X=True, fit_intercept=True, n_jobs=1, normalize=False)"
      ]
     },
     "execution_count": 12,
     "metadata": {},
     "output_type": "execute_result"
    }
   ],
   "source": [
    "regressor = LinearRegression()\n",
    "regressor.fit(X, Y)"
   ]
  },
  {
   "cell_type": "markdown",
   "metadata": {},
   "source": [
    "## Plotting"
   ]
  },
  {
   "cell_type": "code",
   "execution_count": 17,
   "metadata": {},
   "outputs": [
    {
     "data": {
      "text/plain": [
       "<matplotlib.text.Text at 0x172d1259438>"
      ]
     },
     "execution_count": 17,
     "metadata": {},
     "output_type": "execute_result"
    },
    {
     "data": {
      "image/png": "[encoded data removed]",
      "text/plain": [
       "<matplotlib.figure.Figure at 0x172d12120f0>"
      ]
     },
     "metadata": {},
     "output_type": "display_data"
    }
   ],
   "source": [
    "# plot input data\n",
    "plt.scatter(X[:, 1], Y, label='data', c='k')\n",
    "\n",
    "# plot prediction using sklearn\n",
    "plt.plot(X[:, 1], regressor.predict(X), '-', label='sklearn.LinearRegression', linewidth=4)\n",
    "\n",
    "# plot prediction using our model from scratch\n",
    "X_plot = np.linspace(X[:, 1].min(), X[:, 1].max(), 100)\n",
    "line = theta[0] + theta[1]*X_plot\n",
    "plt.plot(X_plot, line, '-.', label='my_linearRegression', linewidth=3)\n",
    "\n",
    "plt.legend()\n",
    "plt.grid()\n",
    "plt.xlabel('X')\n",
    "plt.ylabel('Y')"
   ]
  }
 ],
 "metadata": {
  "kernelspec": {
   "display_name": "Python 3",
   "language": "python",
   "name": "python3"
  },
  "language_info": {
   "codemirror_mode": {
    "name": "ipython",
    "version": 3
   },
   "file_extension": ".py",
   "mimetype": "text/x-python",
   "name": "python",
   "nbconvert_exporter": "python",
   "pygments_lexer": "ipython3",
   "version": "3.6.2"
  },
  "toc": {
   "nav_menu": {},
   "number_sections": false,
   "sideBar": true,
   "skip_h1_title": true,
   "toc_cell": false,
   "toc_position": {},
   "toc_section_display": "block",
   "toc_window_display": false
  }
 },
 "nbformat": 4,
 "nbformat_minor": 2
}
