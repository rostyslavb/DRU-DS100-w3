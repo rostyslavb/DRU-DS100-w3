{
 "cells": [
  {
   "cell_type": "code",
   "execution_count": 88,
   "metadata": {
    "collapsed": true
   },
   "outputs": [],
   "source": [
    "%matplotlib inline\n",
    "import numpy as np\n",
    "from scipy import optimize\n",
    "import matplotlib.pyplot as plt\n",
    "import matplotlib.cm as cm"
   ]
  },
  {
   "cell_type": "code",
   "execution_count": 89,
   "metadata": {
    "collapsed": true
   },
   "outputs": [],
   "source": [
    "class NeuralNet(object):\n",
    "    def __init__(self, Lambda=0):\n",
    "        \n",
    "        # hyperparameters\n",
    "        self.iLayerSize = 2\n",
    "        self.hLayerSize = 3\n",
    "        self.oLayerSize = 1\n",
    "        self.Lambda = Lambda\n",
    "        \n",
    "        # randomize weights\n",
    "        self.W1 = np.random.randn(self.iLayerSize, self.hLayerSize)\n",
    "        self.W2 = np.random.randn(self.hLayerSize, self.oLayerSize)\n",
    "    \n",
    "    def sigmoid(self, z):\n",
    "        return 1 / (1 + np.exp(-z))\n",
    "    \n",
    "    def d_sigmoid(self, z):\n",
    "        return np.exp(-z) / ((1 + np.exp(-z))**2)\n",
    "    \n",
    "    def forward(self, X):\n",
    "        '''push input data though net'''\n",
    "        \n",
    "        # second layer (hidden)\n",
    "        self.z2 = np.dot(X, self.W1)\n",
    "        \n",
    "        # activation on second layer\n",
    "        self.a2 = self.sigmoid(self.z2)\n",
    "        \n",
    "        # third layer (output)\n",
    "        self.z3 = np.dot(self.a2, self.W2)\n",
    "        \n",
    "        # activation on third layer\n",
    "        return self.sigmoid(self.z3)\n",
    "    \n",
    "        \n",
    "    def cost(self, X, Y):\n",
    "        self.predicted = self.forward(X)\n",
    "        diff = Y - self.predicted\n",
    "        \n",
    "        J = 0.5 * np.sum(diff**2) / X.shape[0]\n",
    "        regularizator = (self.Lambda/2)*(np.sum(self.W1**2) + np.sum(self.W2**2))\n",
    "        return J + regularizator\n",
    "    \n",
    "    def d_cost(self, X, Y):\n",
    "        self.predicted = self.forward(X)\n",
    "        diff = Y - self.predicted\n",
    "        \n",
    "        delta3 = np.multiply(-diff, self.d_sigmoid(self.z3))\n",
    "        dJW2 = np.dot(self.a2.T, delta3) / X.shape[0] + self.Lambda * self.W2\n",
    "        \n",
    "        delta2 = np.dot(delta3, self.W2.T) * self.d_sigmoid(self.z2)\n",
    "        dJW1 = np.dot(X.T, delta2) / X.shape[0] + self.Lambda * self.W1\n",
    "        \n",
    "        return dJW1, dJW2\n",
    "    \n",
    "    # getter and setter\n",
    "    def getWeights(self):\n",
    "        return np.concatenate((self.W1.ravel(), self.W2.ravel()))\n",
    "    \n",
    "    def setWeights(self, W):\n",
    "        \n",
    "        W1_start = 0\n",
    "        W1_end = W1_start + self.iLayerSize * self.hLayerSize\n",
    "        \n",
    "        W2_start = W1_end\n",
    "        W2_end = W2_start + self.hLayerSize * self.oLayerSize\n",
    "        \n",
    "        self.W1 = np.reshape(W[W1_start:W1_end], (self.iLayerSize, self.hLayerSize))\n",
    "        self.W2 = np.reshape(W[W2_start:W2_end], (self.hLayerSize, self.oLayerSize))\n",
    "        \n",
    "    def computeGrads(self, X, Y):\n",
    "        dJW1, dJW2 = self.d_cost(X, Y)\n",
    "        return np.concatenate((dJW1.ravel(), dJW2.ravel()))"
   ]
  },
  {
   "cell_type": "code",
   "execution_count": 90,
   "metadata": {},
   "outputs": [],
   "source": [
    "def computeNumGrads(N, X, y, acc=1e-4):\n",
    "    initialWeights = N.getWeights()\n",
    "    \n",
    "    numgrad = np.zeros(initialWeights.shape)\n",
    "    perturb = np.zeros(initialWeights.shape)\n",
    "    \n",
    "    for p in range(len(initialWeights)):\n",
    "        perturb[p] = acc\n",
    "        \n",
    "        N.setWeights(initialWeights + perturb)\n",
    "        loss2 = N.cost(X, y)\n",
    "        \n",
    "        N.setWeights(initialWeights - perturb)\n",
    "        loss1 = N.cost(X, y)\n",
    "        \n",
    "        numgrad[p] = (loss2 - loss1) / (2*acc)\n",
    "        \n",
    "        perturb[p] = 0\n",
    "        \n",
    "    N.setWeights(initialWeights)\n",
    "    \n",
    "    return numgrad"
   ]
  },
  {
   "cell_type": "code",
   "execution_count": 91,
   "metadata": {
    "collapsed": true
   },
   "outputs": [],
   "source": [
    "class Trainer(object):\n",
    "    \n",
    "    def __init__(self, N):\n",
    "        # N -- instance of Neural net class\n",
    "        self.N = N\n",
    "        \n",
    "    def callbackF(self, W):\n",
    "        self.N.setWeights(W)\n",
    "        self.J.append(self.N.cost(self.X, self.y))\n",
    "        self.testJ.append(self.N.cost(self.testX, self.testY))\n",
    "        \n",
    "    def costWrapper(self, W, X, y):\n",
    "        self.N.setWeights(W)\n",
    "        cost = self.N.cost(X, y)\n",
    "        grad = self.N.computeGrads(X,y)\n",
    "        \n",
    "        return cost, grad\n",
    "    \n",
    "    def train(self, trainX, trainY, testX, testY):\n",
    "        #Make an internal variable for the callback function:\n",
    "        self.X = trainX\n",
    "        self.y = trainY\n",
    "        \n",
    "        self.testX = testX\n",
    "        self.testY = testY\n",
    "\n",
    "        # for storing costs\n",
    "        self.J = []\n",
    "        self.testJ = []\n",
    "        \n",
    "        W0 = self.N.getWeights()\n",
    "\n",
    "        self.optimizationResults = optimize.minimize(self.costWrapper, W0, jac=True, method='BFGS',\n",
    "                                                     args=(trainX, trainY),\n",
    "                                                     options={'maxiter': 40, 'disp': True},\n",
    "                                                     callback=self.callbackF)\n",
    "\n",
    "        self.N.setWeights(self.optimizationResults.x)\n",
    "        "
   ]
  },
  {
   "cell_type": "code",
   "execution_count": 92,
   "metadata": {
    "collapsed": true
   },
   "outputs": [],
   "source": [
    "X = np.array([[3, 5], [5, 1], [10, 2]])\n",
    "Y = np.array([75, 82, 93])"
   ]
  },
  {
   "cell_type": "code",
   "execution_count": 93,
   "metadata": {},
   "outputs": [
    {
     "data": {
      "text/plain": [
       "array([[ 0.4619738 ],\n",
       "       [ 0.34578015],\n",
       "       [ 0.33356031]])"
      ]
     },
     "execution_count": 93,
     "metadata": {},
     "output_type": "execute_result"
    }
   ],
   "source": [
    "NN = NeuralNet(Lambda=0.1)\n",
    "NN.forward(X)"
   ]
  },
  {
   "cell_type": "code",
   "execution_count": 94,
   "metadata": {
    "collapsed": true
   },
   "outputs": [],
   "source": [
    "#Training Data:\n",
    "trainX = np.array(([3, 5], [5, 1], [10, 2], [6, 1.5]), dtype=float)\n",
    "trainY = np.array(([75], [82], [93], [70]), dtype=float)\n",
    "\n",
    "#Testing Data:\n",
    "testX = np.array(([4, 5.5], [4.5,  1], [9, 2.5], [6, 2]), dtype=float)\n",
    "testY = np.array(([70], [89], [85], [75]), dtype=float)\n",
    "\n",
    "#Normalize:\n",
    "trainX = trainX / np.amax(trainX, axis=0)\n",
    "trainY = trainY / 100 #Max test score is 100\n",
    "\n",
    "#Normalize by max of training data:\n",
    "testX = testX / np.amax(trainX, axis=0)\n",
    "testY = testY / 100 #Max test score is 100"
   ]
  },
  {
   "cell_type": "code",
   "execution_count": 95,
   "metadata": {},
   "outputs": [
    {
     "data": {
      "text/plain": [
       "6.3234849630778776e-11"
      ]
     },
     "execution_count": 95,
     "metadata": {},
     "output_type": "execute_result"
    }
   ],
   "source": [
    "#Train network with new data:\n",
    "NN = NeuralNet()\n",
    "\n",
    "#Make sure our gradients our correct after making changes:\n",
    "numgrad = computeNumGrads(NN, trainX, trainY)\n",
    "grad = NN.computeGrads(trainX, trainY)\n",
    "\n",
    "#Should be less than 1e-8:\n",
    "np.linalg.norm(grad-numgrad) / np.linalg.norm(grad+numgrad)"
   ]
  },
  {
   "cell_type": "code",
   "execution_count": 96,
   "metadata": {},
   "outputs": [
    {
     "name": "stdout",
     "output_type": "stream",
     "text": [
      "Warning: Maximum number of iterations has been exceeded.\n",
      "         Current function value: 0.002078\n",
      "         Iterations: 40\n",
      "         Function evaluations: 49\n",
      "         Gradient evaluations: 49\n"
     ]
    }
   ],
   "source": [
    "T = Trainer(NN)\n",
    "T.train(trainX, trainY, testX, testY)"
   ]
  },
  {
   "cell_type": "code",
   "execution_count": 97,
   "metadata": {},
   "outputs": [
    {
     "data": {
      "text/plain": [
       "<matplotlib.legend.Legend at 0x2030fac60b8>"
      ]
     },
     "execution_count": 97,
     "metadata": {},
     "output_type": "execute_result"
    },
    {
     "data": {
      "image/png": "[encoded data removed]",
      "text/plain": [
       "<matplotlib.figure.Figure at 0x2030fa84ac8>"
      ]
     },
     "metadata": {},
     "output_type": "display_data"
    }
   ],
   "source": [
    "plt.plot(T.J, label='train')\n",
    "plt.plot(T.testJ, label='test')\n",
    "plt.grid(1)\n",
    "plt.xlabel('Iterations')\n",
    "plt.ylabel('Cost')\n",
    "plt.legend()"
   ]
  }
 ],
 "metadata": {
  "hide_input": false,
  "kernelspec": {
   "display_name": "Python 3",
   "language": "python",
   "name": "python3"
  },
  "language_info": {
   "codemirror_mode": {
    "name": "ipython",
    "version": 3
   },
   "file_extension": ".py",
   "mimetype": "text/x-python",
   "name": "python",
   "nbconvert_exporter": "python",
   "pygments_lexer": "ipython3",
   "version": "3.6.2"
  },
  "toc": {
   "nav_menu": {},
   "number_sections": false,
   "sideBar": true,
   "skip_h1_title": true,
   "toc_cell": false,
   "toc_position": {},
   "toc_section_display": "block",
   "toc_window_display": false
  },
  "varInspector": {
   "cols": {
    "lenName": 16,
    "lenType": 16,
    "lenVar": 40
   },
   "kernels_config": {
    "python": {
     "delete_cmd_postfix": "",
     "delete_cmd_prefix": "del ",
     "library": "var_list.py",
     "varRefreshCmd": "print(var_dic_list())"
    },
    "r": {
     "delete_cmd_postfix": ") ",
     "delete_cmd_prefix": "rm(",
     "library": "var_list.r",
     "varRefreshCmd": "cat(var_dic_list()) "
    }
   },
   "types_to_exclude": [
    "module",
    "function",
    "builtin_function_or_method",
    "instance",
    "_Feature"
   ],
   "window_display": false
  }
 },
 "nbformat": 4,
 "nbformat_minor": 2
}
