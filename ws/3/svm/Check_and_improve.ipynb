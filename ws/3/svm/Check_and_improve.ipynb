{
 "cells": [
  {
   "cell_type": "markdown",
   "metadata": {},
   "source": [
    "## SVM Checker"
   ]
  },
  {
   "cell_type": "code",
   "execution_count": 22,
   "metadata": {
    "scrolled": false
   },
   "outputs": [],
   "source": [
    "%matplotlib inline\n",
    "import svm\n",
    "import numpy as np\n",
    "import matplotlib.pyplot as plt\n",
    "import matplotlib.cm as cm\n",
    "import itertools\n",
    "\n",
    "\n",
    "\n",
    "\n",
    "def example(num_samples=20, num_features=2, grid_size=300, sigma=None):\n",
    "    \n",
    "    samples = np.matrix(np.random.normal(size=num_samples * num_features)\n",
    "                        .reshape(num_samples, num_features))\n",
    "    \n",
    "    labels = 2 * (samples.sum(axis=1) > 0) - 1.0\n",
    "    \n",
    "    if sigma is None:\n",
    "        trainer = svm.SVMTrainer(svm.Kernel.linear())\n",
    "    else:\n",
    "        trainer = svm.SVMTrainer(svm.Kernel.gaussian(sigma))\n",
    "        \n",
    "    predictor = trainer.train(samples, labels)\n",
    "\n",
    "    plot(predictor, samples, labels, grid_size)\n",
    "\n",
    "\n",
    "def plot(predictor, X, y, grid_size):\n",
    "    \n",
    "    x_min, x_max = X[:, 0].min() - 1, X[:, 0].max() + 1\n",
    "    y_min, y_max = X[:, 1].min() - 1, X[:, 1].max() + 1\n",
    "    \n",
    "    xx, yy = np.meshgrid(\n",
    "        np.linspace(x_min, x_max, grid_size),\n",
    "        np.linspace(y_min, y_max, grid_size),\n",
    "        indexing='ij'\n",
    "    )\n",
    "    \n",
    "    flatten = lambda m: np.array(m).reshape(-1,)\n",
    "\n",
    "    result = []\n",
    "    \n",
    "    for (i, j) in itertools.product(range(grid_size), range(grid_size)):\n",
    "        point = np.array([xx[i, j], yy[i, j]]).reshape(1, 2)\n",
    "        result.append(predictor.predict(point))\n",
    "\n",
    "    Z = np.array(result).reshape(xx.shape)\n",
    "    \n",
    "    plt.contourf(\n",
    "        xx, yy, Z,\n",
    "        cmap=cm.Paired,\n",
    "        levels=[-0.01, 0.01],\n",
    "        extend='both',\n",
    "        alpha=0.45\n",
    "    )\n",
    "    \n",
    "    \n",
    "    plt.scatter(\n",
    "        flatten(X[:, 0]),\n",
    "        flatten(X[:, 1]),\n",
    "        c=flatten(y),\n",
    "        cmap=cm.Paired\n",
    "    )\n",
    "    \n",
    "    plt.xlim(x_min, x_max)\n",
    "    plt.ylim(y_min, y_max)"
   ]
  },
  {
   "cell_type": "code",
   "execution_count": 23,
   "metadata": {},
   "outputs": [
    {
     "name": "stdout",
     "output_type": "stream",
     "text": [
      "[[-0.6545924   1.8456091 ]\n",
      " [ 0.19423381  1.07087926]\n",
      " [-1.7406413  -0.7146244 ]\n",
      " [ 0.07759482  1.90144807]\n",
      " [ 0.47291928 -1.54470833]\n",
      " [-1.01623431  0.35364386]\n",
      " [-0.08672831  0.17032668]\n",
      " [ 0.55301933 -0.18174066]\n",
      " [ 1.10780809  0.67630771]\n",
      " [-0.79295644 -0.64511528]\n",
      " [ 0.70470005  1.46582093]\n",
      " [-1.368258   -0.09285306]\n",
      " [ 0.61876706  0.04376698]\n",
      " [ 0.57172511  1.35804296]\n",
      " [ 0.06033817 -0.18107042]\n",
      " [-0.4818199   1.37961974]\n",
      " [ 1.57654076 -0.40263014]\n",
      " [-0.3684851   0.45257113]\n",
      " [-2.28762325  0.53806148]\n",
      " [ 0.94774474  1.0810184 ]]\n",
      "     pcost       dcost       gap    pres   dres\n",
      " 0: -5.1904e+00 -1.5664e+01  5e+01  5e+00  2e+00\n",
      " 1: -1.1510e+01 -2.0529e+01  2e+01  2e+00  8e-01\n",
      " 2: -2.6226e+01 -3.7387e+01  2e+01  1e+00  6e-01\n",
      " 3: -3.7027e+01 -4.1645e+01  7e+00  3e-01  1e-01\n",
      " 4: -3.7061e+01 -3.7212e+01  2e-01  6e-03  3e-03\n",
      " 5: -3.7098e+01 -3.7105e+01  8e-03  1e-04  4e-05\n",
      " 6: -3.7102e+01 -3.7102e+01  5e-04  8e-07  4e-07\n",
      " 7: -3.7102e+01 -3.7102e+01  6e-06  8e-09  4e-09\n",
      "Optimal solution found.\n"
     ]
    },
    {
     "data": {
      "image/png": "[encoded data removed]",
      "text/plain": [
       "<matplotlib.figure.Figure at 0x7fb14b1fbf28>"
      ]
     },
     "metadata": {},
     "output_type": "display_data"
    }
   ],
   "source": [
    "example(sigma=1)"
   ]
  }
 ],
 "metadata": {
  "hide_input": false,
  "kernelspec": {
   "display_name": "Python 3",
   "language": "python",
   "name": "python3"
  },
  "language_info": {
   "codemirror_mode": {
    "name": "ipython",
    "version": 3
   },
   "file_extension": ".py",
   "mimetype": "text/x-python",
   "name": "python",
   "nbconvert_exporter": "python",
   "pygments_lexer": "ipython3",
   "version": "3.6.3"
  },
  "toc": {
   "nav_menu": {},
   "number_sections": false,
   "sideBar": true,
   "skip_h1_title": true,
   "toc_cell": false,
   "toc_position": {},
   "toc_section_display": "block",
   "toc_window_display": false
  },
  "varInspector": {
   "cols": {
    "lenName": 16,
    "lenType": 16,
    "lenVar": 40
   },
   "kernels_config": {
    "python": {
     "delete_cmd_postfix": "",
     "delete_cmd_prefix": "del ",
     "library": "var_list.py",
     "varRefreshCmd": "print(var_dic_list())"
    },
    "r": {
     "delete_cmd_postfix": ") ",
     "delete_cmd_prefix": "rm(",
     "library": "var_list.r",
     "varRefreshCmd": "cat(var_dic_list()) "
    }
   },
   "types_to_exclude": [
    "module",
    "function",
    "builtin_function_or_method",
    "instance",
    "_Feature"
   ],
   "window_display": false
  }
 },
 "nbformat": 4,
 "nbformat_minor": 2
}
