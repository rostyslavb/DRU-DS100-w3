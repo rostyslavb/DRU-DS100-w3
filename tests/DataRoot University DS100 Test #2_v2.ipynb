{
 "cells": [
  {
   "cell_type": "markdown",
   "metadata": {},
   "source": [
    "# DataRoot University DS100 Test #2\n",
    "На проходження тесту виділяється 87 хвилин."
   ]
  },
  {
   "cell_type": "markdown",
   "metadata": {},
   "source": [
    "## Python"
   ]
  },
  {
   "cell_type": "markdown",
   "metadata": {},
   "source": [
    "### 1.  Реалізуйте функцію, яка повертає індекс кортежу, сума елементів якого є найбільшою серед кортежів в списку:\n",
    "У відповідь вивести результат роботи ф-ції для наступного списку:\n",
    "```\n",
    "[(10, 20), (40), (30, 56, 25), (10, 20), (33), (40), (42), (10, 42), (42), (1,2,3), (4,5,6), (10,11,12), (7,8,9)]\n",
    "```\n",
    "\n",
    "\n",
    "```\n",
    "```\n",
    "```\n",
    "```\n",
    "```\n",
    "```\n",
    "```\n",
    "Максимальна оцінка: 2 бали\n",
    "Рекомендований час: 5хв\n",
    "```"
   ]
  },
  {
   "cell_type": "code",
   "execution_count": 1,
   "metadata": {},
   "outputs": [
    {
     "data": {
      "text/plain": [
       "2"
      ]
     },
     "execution_count": 1,
     "metadata": {},
     "output_type": "execute_result"
    }
   ],
   "source": [
    "lst = [(10, 20), (40), (30, 56, 25), (10, 20), (33), (40), (42), (10, 42), (42), (1,2,3), (4,5,6), (10,11,12), (7,8,9)]\n",
    "\n",
    "def maxid_tplist(tplist):\n",
    "    def tp_sum(tupl):\n",
    "        if isinstance(tupl, int):\n",
    "            return tupl\n",
    "        else:\n",
    "            return sum(tupl)\n",
    "    idx = 0\n",
    "    max_sum = 0\n",
    "    for i, tup in enumerate(tplist):\n",
    "        curr_sum = tp_sum(tup)\n",
    "        if curr_sum > max_sum:\n",
    "            max_sum = curr_sum\n",
    "            idx = i\n",
    "    return idx\n",
    "\n",
    "maxid_tplist(lst)"
   ]
  },
  {
   "cell_type": "markdown",
   "metadata": {},
   "source": [
    "### 2.  Реалізуйте функцію str -> dict, таку, що ключем dict є слово, а значенням - його кількість в початковій str:\n",
    "У відповідь вивести результат роботи ф-ції для наступної строки:\n",
    "```\"Text mining, also referred to as text data mining, roughly equivalent to text analytics, is the process of deriving high-quality information from text. High-quality information is typically derived through the devising of patterns and trends through means such as statistical pattern learning. Text mining usually involves the process of structuring the input text (usually parsing, along with the addition of some derived linguistic features and the removal of others, and subsequent insertion into a database), deriving patterns within the structured data, and finally evaluation and interpretation of the output. 'High quality' in text mining usually refers to some combination of relevance, novelty, and interestingness.\"```\n",
    "\n",
    "```\n",
    "```\n",
    "```\n",
    "```\n",
    "```\n",
    "```\n",
    "```\n",
    "Максимальна оцінка: 2 бали\n",
    "Рекомендований час: 5хв\n",
    "```"
   ]
  },
  {
   "cell_type": "code",
   "execution_count": 3,
   "metadata": {},
   "outputs": [
    {
     "data": {
      "text/plain": [
       "{'a': 1,\n",
       " 'addition': 1,\n",
       " 'along': 1,\n",
       " 'also': 1,\n",
       " 'analytics': 1,\n",
       " 'and': 6,\n",
       " 'as': 2,\n",
       " 'combination': 1,\n",
       " 'data': 2,\n",
       " 'database': 1,\n",
       " 'derived': 2,\n",
       " 'deriving': 2,\n",
       " 'devising': 1,\n",
       " 'equivalent': 1,\n",
       " 'evaluation': 1,\n",
       " 'features': 1,\n",
       " 'finally': 1,\n",
       " 'from': 1,\n",
       " 'high': 3,\n",
       " 'in': 1,\n",
       " 'information': 2,\n",
       " 'input': 1,\n",
       " 'insertion': 1,\n",
       " 'interestingness': 1,\n",
       " 'interpretation': 1,\n",
       " 'into': 1,\n",
       " 'involves': 1,\n",
       " 'is': 2,\n",
       " 'learning': 1,\n",
       " 'linguistic': 1,\n",
       " 'means': 1,\n",
       " 'mining': 4,\n",
       " 'novelty': 1,\n",
       " 'of': 7,\n",
       " 'others': 1,\n",
       " 'output': 1,\n",
       " 'parsing': 1,\n",
       " 'pattern': 1,\n",
       " 'patterns': 2,\n",
       " 'process': 2,\n",
       " 'quality': 3,\n",
       " 'referred': 1,\n",
       " 'refers': 1,\n",
       " 'relevance': 1,\n",
       " 'removal': 1,\n",
       " 'roughly': 1,\n",
       " 'some': 2,\n",
       " 'statistical': 1,\n",
       " 'structured': 1,\n",
       " 'structuring': 1,\n",
       " 'subsequent': 1,\n",
       " 'such': 1,\n",
       " 'text': 7,\n",
       " 'the': 8,\n",
       " 'through': 2,\n",
       " 'to': 3,\n",
       " 'trends': 1,\n",
       " 'typically': 1,\n",
       " 'usually': 3,\n",
       " 'with': 1,\n",
       " 'within': 1}"
      ]
     },
     "execution_count": 3,
     "metadata": {},
     "output_type": "execute_result"
    }
   ],
   "source": [
    "import re\n",
    "def texttodict(in_str):\n",
    "    list_str = re.split('[^a-z]', in_str.strip('\\n\\r.').lower())\n",
    "    list_str = list(filter(None, list_str)) \n",
    "    set_str = set(list_str)\n",
    "    dict_str = {ke:list_str.count(ke) for ke in set_str}\n",
    "    return dict_str\n",
    "\n",
    "text = \"Text mining, also referred to as text data mining, roughly equivalent to text analytics, is the process of deriving high-quality information from text. High-quality information is typically derived through the devising of patterns and trends through means such as statistical pattern learning. Text mining usually involves the process of structuring the input text (usually parsing, along with the addition of some derived linguistic features and the removal of others, and subsequent insertion into a database), deriving patterns within the structured data, and finally evaluation and interpretation of the output. 'High quality' in text mining usually refers to some combination of relevance, novelty, and interestingness.\"\n",
    "\n",
    "texttodict(text)"
   ]
  },
  {
   "cell_type": "markdown",
   "metadata": {},
   "source": [
    "### 3. Спортсмен почав тренування, пробігши в перший день N км (N - ціле). Кожен наступний день він збільшував дистанцію пробігу на Р відсотків від дистанції пробігу попереднього дня(Р - дійсне, 0 < P < 50). По заданим Р, N, M, визначити, після якого дня сумарний пробіг спортсмена за всі дні буде вперше більшим, ніж M км (М - ціле, M > N). Вивести знайдену кількість днів К (K - ціле) і сумарний пробіг за К днів.\n",
    "\n",
    "```\n",
    "```\n",
    "```\n",
    "```\n",
    "```\n",
    "```\n",
    "```\n",
    "Максимальна оцінка: 3 бали\n",
    "Рекомендований час: 7хв\n",
    "```"
   ]
  },
  {
   "cell_type": "code",
   "execution_count": 80,
   "metadata": {},
   "outputs": [
    {
     "data": {
      "text/plain": [
       "(2, 5.0)"
      ]
     },
     "execution_count": 80,
     "metadata": {},
     "output_type": "execute_result"
    }
   ],
   "source": [
    "def sport_task(N, P, M):\n",
    "    count = 0\n",
    "    km = 0 # пробіг\n",
    "    while km <= M:\n",
    "        km += N\n",
    "        count += 1\n",
    "        N *= (1+P/100)\n",
    "    return count, km\n",
    "\n",
    "N = 2\n",
    "P = 50\n",
    "M = 3\n",
    "\n",
    "K = sport_task(N, P, M)\n",
    "K"
   ]
  },
  {
   "cell_type": "markdown",
   "metadata": {},
   "source": [
    "### 4. Реалізуйте клас під назвою Triangle, побудований за трьома сторонами та містить два методи: обчислення площі та периметру.\n",
    "\n",
    "```\n",
    "```\n",
    "```\n",
    "```\n",
    "```\n",
    "```\n",
    "```\n",
    "Максимальна оцінка: 3 бали\n",
    "Рекомендований час: 5хв\n",
    "```"
   ]
  },
  {
   "cell_type": "code",
   "execution_count": 13,
   "metadata": {},
   "outputs": [
    {
     "data": {
      "text/plain": [
       "(12, 6.0)"
      ]
     },
     "execution_count": 13,
     "metadata": {},
     "output_type": "execute_result"
    }
   ],
   "source": [
    "from math import sqrt\n",
    "\n",
    "class Triangle:\n",
    "    def __init__(self, a, b, c):\n",
    "        if a + b < c or a + c < b or b + c < a:\n",
    "            raise Exception('Сума якихось двох сторін більша за третю.')\n",
    "        self.s1 = a\n",
    "        self.s2 = b\n",
    "        self.s3 = c\n",
    "        \n",
    "    def get_perimeter(self):\n",
    "        return self.s1 + self.s2 + self.s3\n",
    "    \n",
    "    def get_square(self):\n",
    "        p = self.get_perimeter()/2\n",
    "        return sqrt(p*(p-self.s1)*(p-self.s2)*(p-self.s3))\n",
    "    \n",
    "    \n",
    "one = Triangle(4, 3, 5)\n",
    "\n",
    "one.get_perimeter(), one.get_square()"
   ]
  },
  {
   "cell_type": "markdown",
   "metadata": {},
   "source": [
    "### 5.  Реалізуйте декоратор, який логує аргументи функцій та повернене значення кожного виклику. А при помилковому виклику відловлює та пише тип помилки. Необхідно виводити як позиційні(```*args```), так й іменовані аргументи(```**kwargs```):\n",
    "\n",
    "Приклад застосування вашого декоратору в результаті:\n",
    "```\n",
    ">>> @log\n",
    "... def func(*args):\n",
    "...   return len(args) + sum(args)\n",
    ">>> func(4, 4, 4)\n",
    "You called func(4, 4, 4)\n",
    "It returned 15\n",
    "15\n",
    "\n",
    ">>> func(4, 4, \"4\")\n",
    "You called func(4, 4, \"4\")\n",
    "It Raised TypeError\n",
    "```\n",
    "\n",
    "```\n",
    "```\n",
    "```\n",
    "```\n",
    "```\n",
    "```\n",
    "```\n",
    "Максимальна оцінка: 4 бали\n",
    "Рекомендований час: 15хв\n",
    "```"
   ]
  },
  {
   "cell_type": "code",
   "execution_count": 94,
   "metadata": {},
   "outputs": [
    {
     "name": "stdout",
     "output_type": "stream",
     "text": [
      "You called my_func(4, 4, 4, kek=4, lol=5)\n",
      "It Raised TypeError\n"
     ]
    }
   ],
   "source": [
    "def log(func):\n",
    "    def func_wrapper(*args, **kwargs):\n",
    "        print(f'You called {func.__name__}(', end='')\n",
    "        for i in args:\n",
    "            print(i, end=', ')\n",
    "        klst = []\n",
    "        for key, val in zip(kwargs.keys(), kwargs.values()):\n",
    "            klst.append(f'{key}={val}')\n",
    "        print(*klst, sep=', ', end=')\\n')\n",
    "        try:\n",
    "            ret = func(*args, **kwargs)\n",
    "        except Exception as e:\n",
    "            print(f'It Raised {type(e).__name__}.')\n",
    "        else:\n",
    "            print(f'It returned {ret}.')\n",
    "        \n",
    "    return func_wrapper\n",
    "\n",
    "@log\n",
    "def my_func(*args, **kwargs):\n",
    "    return sum(args)\n",
    "\n",
    "my_func(4, 4, '4', kek=4, lol=5)"
   ]
  },
  {
   "cell_type": "markdown",
   "metadata": {
    "collapsed": true
   },
   "source": [
    "## Libraries: numpy, scipy, pandas, matplotlib"
   ]
  },
  {
   "cell_type": "markdown",
   "metadata": {},
   "source": [
    "### Numpy"
   ]
  },
  {
   "cell_type": "markdown",
   "metadata": {
    "collapsed": true
   },
   "source": [
    "### 6. Дана матриця:\n",
    "\\begin{align}\n",
    "A = \\begin{bmatrix}\n",
    "    17 & 24 & 1 & 8 & 15 \\\\\n",
    "    23 & 5 & 7 & 14 & 16 \\\\\n",
    "    4 & 6 & 13 & 20 & 22 \\\\\n",
    "    10 & 12 & 19 & 21 & 3 \\\\\n",
    "    11 & 18 & 25 & 2 & 9 \\\\\n",
    "\\end{bmatrix}\n",
    "\\end{align}\n",
    "\n",
    "\n",
    "#### Відніміть середнє арифметичне кожного рядку від кожного елементу у відповідному рядку:\n",
    "```\n",
    "```\n",
    "```\n",
    "```\n",
    "```\n",
    "```\n",
    "```\n",
    "Максимальна оцінка: 2 бали\n",
    "Рекомендований час: 5хв\n",
    "```"
   ]
  },
  {
   "cell_type": "code",
   "execution_count": 15,
   "metadata": {
    "collapsed": true
   },
   "outputs": [],
   "source": [
    "import numpy as np"
   ]
  },
  {
   "cell_type": "code",
   "execution_count": 25,
   "metadata": {},
   "outputs": [
    {
     "data": {
      "text/plain": [
       "matrix([[  4.,  11., -12.,  -5.,   2.],\n",
       "        [ 10.,  -8.,  -6.,   1.,   3.],\n",
       "        [ -9.,  -7.,   0.,   7.,   9.],\n",
       "        [ -3.,  -1.,   6.,   8., -10.],\n",
       "        [ -2.,   5.,  12., -11.,  -4.]])"
      ]
     },
     "execution_count": 25,
     "metadata": {},
     "output_type": "execute_result"
    }
   ],
   "source": [
    "A = np.matrix(\"17 24 1 8 15 ; 23 5 7 14 16 ; 4 6 13 20 22 ; 10 12 19 21 3 ; 11 18 25 2 9\")\n",
    "A - A.mean(axis=1)"
   ]
  },
  {
   "cell_type": "markdown",
   "metadata": {},
   "source": [
    "### 7. Дано наступні матриці:\n",
    "\\begin{align}\n",
    "A = \\begin{bmatrix}\n",
    "    1 & 24 & 1 & 8 & 15 \\\\\n",
    "    -3 & 5 & 7 & -14 & 16 \\\\\n",
    "    4 & 6 & -3 & 20 & 2 \\\\\n",
    "    10 & 12 & 19 & 21 & 3 \\\\\n",
    "    1 & 1 & 2 & -2 & 0 \\\\\n",
    "\\end{bmatrix}\n",
    "\\end{align}\n",
    "\\begin{align}\n",
    "\\end{align}\n",
    "\\begin{align}\n",
    "B = \\begin{bmatrix}\n",
    "    17 & 24 & 1 & 8 & 15 \\\\\n",
    "    23 & 5 & 7 & 14 & 16 \\\\\n",
    "    4 & 6 & 13 & 20 & 22 \\\\\n",
    "    10 & 12 & 19 & 21 & 3 \\\\\n",
    "    11 & 18 & 25 & 2 & 9 \\\\\n",
    "\\end{bmatrix}\n",
    "\\end{align}\n",
    "Знайти:"
   ]
  },
  {
   "cell_type": "markdown",
   "metadata": {},
   "source": [
    "#### 7.1. $(A B)^{-1}B$\n",
    "\n",
    "```\n",
    "```\n",
    "```\n",
    "```\n",
    "```\n",
    "```\n",
    "```\n",
    "Максимальна оцінка: 1 бал\n",
    "Рекомендований час: 2хв\n",
    "```"
   ]
  },
  {
   "cell_type": "code",
   "execution_count": 43,
   "metadata": {},
   "outputs": [
    {
     "data": {
      "text/plain": [
       "matrix([[  2.65735362e-02,   1.27035072e-01,   4.97181638e-02,\n",
       "          -5.77501566e-02,   2.16197802e-02],\n",
       "        [  4.97822089e-01,   6.94421157e-01,   1.22016431e+00,\n",
       "           3.15403282e-01,   6.82352226e-01],\n",
       "        [ -2.73954893e-01,  -5.02742447e-01,  -7.53275932e-01,\n",
       "          -7.86478909e-02,  -3.21387720e-01],\n",
       "        [ -1.85941514e-01,  -2.21032323e-01,  -3.40093737e-01,\n",
       "          -8.74263642e-02,  -2.26374491e-01],\n",
       "        [  6.39996550e-02,   7.31526811e-02,   9.64328864e-02,\n",
       "          -4.50602455e-03,   5.30395121e-04]])"
      ]
     },
     "execution_count": 43,
     "metadata": {},
     "output_type": "execute_result"
    }
   ],
   "source": [
    "A = np.matrix(\"1  24  1  8  15 ; -3  5  7  -14  16 ; 4  6  -3  20  2 ; 10  12  19  21  3 ; 1  1  2  -2  0\")\n",
    "B = np.matrix(\"17  24  1  8  15 ;    23  5  7  14  16 ;    4  6  13  20  22 ;    10  12  19  21  3 ;    11  18  25  2  9\")\n",
    "\n",
    "AB = np.dot(A, B)\n",
    "AB_inv = np.linalg.inv(AB)\n",
    "AB_inv_B = np.dot(AB_inv, B)\n",
    "AB_inv_B"
   ]
  },
  {
   "cell_type": "markdown",
   "metadata": {},
   "source": [
    "#### 7.2. Детермінант: $\\det ((A B)^{-1}B)$\n",
    "\n",
    "```\n",
    "```\n",
    "```\n",
    "```\n",
    "```\n",
    "```\n",
    "```\n",
    "Максимальна оцінка: 1 бал\n",
    "Рекомендований час: 2хв\n",
    "```"
   ]
  },
  {
   "cell_type": "code",
   "execution_count": 28,
   "metadata": {},
   "outputs": [
    {
     "data": {
      "text/plain": [
       "-9.3840321309260041e-06"
      ]
     },
     "execution_count": 28,
     "metadata": {},
     "output_type": "execute_result"
    }
   ],
   "source": [
    "np.linalg.det(AB_inv_B)"
   ]
  },
  {
   "cell_type": "markdown",
   "metadata": {},
   "source": [
    "#### 7.3. Нормалізуйте: $(A B)^{-1}B$\n",
    "```\n",
    "```\n",
    "```\n",
    "```\n",
    "```\n",
    "```\n",
    "```\n",
    "Максимальна оцінка: 1 бал\n",
    "Рекомендований час: 2хв\n",
    "```"
   ]
  },
  {
   "cell_type": "code",
   "execution_count": 32,
   "metadata": {},
   "outputs": [
    {
     "data": {
      "text/plain": [
       "matrix([[-0.01505933,  0.23417466,  0.04235994, -0.22425712, -0.02734905],\n",
       "        [ 1.15405637,  1.64179699,  2.94610779,  0.70149543,  1.6118553 ],\n",
       "        [-0.76063723, -1.32823393, -1.94977989, -0.27610209, -0.87831285],\n",
       "        [-0.54228574, -0.62934217, -0.92472041, -0.29788052, -0.6425955 ],\n",
       "        [ 0.07779074,  0.10049839,  0.15825401, -0.0921643 , -0.07966949]])"
      ]
     },
     "execution_count": 32,
     "metadata": {},
     "output_type": "execute_result"
    }
   ],
   "source": [
    "arr_norm = (AB_inv_B - AB_inv_B.mean()) / AB_inv_B.std()\n",
    "arr_norm"
   ]
  },
  {
   "cell_type": "markdown",
   "metadata": {},
   "source": [
    "#### 7.4. Змініть матрицю B таким чином, щоб всі елементи k, такі що 3 < k < 16, змінили знак.\n",
    "```\n",
    "```\n",
    "```\n",
    "```\n",
    "```\n",
    "```\n",
    "```\n",
    "Максимальна оцінка: 3 бали\n",
    "Рекомендований час: 5хв\n",
    "```"
   ]
  },
  {
   "cell_type": "code",
   "execution_count": 48,
   "metadata": {},
   "outputs": [
    {
     "data": {
      "text/plain": [
       "matrix([[ 17,  24,   1,  -8, -15],\n",
       "        [ 23,  -5,  -7, -14,  16],\n",
       "        [ -4,  -6, -13,  20,  22],\n",
       "        [-10, -12,  19,  21,   3],\n",
       "        [-11,  18,  25,   2,  -9]])"
      ]
     },
     "execution_count": 48,
     "metadata": {},
     "output_type": "execute_result"
    }
   ],
   "source": [
    "np.putmask(B, (B < 16) & (B> 3), -B)\n",
    "B"
   ]
  },
  {
   "cell_type": "markdown",
   "metadata": {},
   "source": [
    "### Pandas"
   ]
  },
  {
   "cell_type": "markdown",
   "metadata": {},
   "source": [
    "### 8. Розглянемо наступний словник ```data``` та список ```labels```:"
   ]
  },
  {
   "cell_type": "code",
   "execution_count": 51,
   "metadata": {
    "collapsed": true
   },
   "outputs": [],
   "source": [
    "import numpy as np\n",
    "\n",
    "data = {'animal': ['cat', 'cat', 'snake', 'dog', 'dog', 'cat', 'snake', 'cat', 'dog', 'dog'],\n",
    "        'age': [2.5, 3, 0.5, np.nan, 5, 2, 4.5, np.nan, 7, 3],\n",
    "        'visits': [1, 3, 2, 3, 2, 3, 1, 1, 2, 1],\n",
    "        'priority': ['yes', 'yes', 'no', 'yes', 'no', 'no', 'no', 'yes', 'no', 'no']}\n",
    "\n",
    "labels = ['a', 'b', 'c', 'd', 'e', 'f', 'g', 'h', 'i', 'j']"
   ]
  },
  {
   "cell_type": "markdown",
   "metadata": {},
   "source": [
    "#### 8.1. Створіть ```DataFrame``` ```df``` з даних словника ```data``` з індексами зі списку ```labels```:\n",
    "```\n",
    "```\n",
    "```\n",
    "```\n",
    "```\n",
    "```\n",
    "```\n",
    "Максимальна оцінка: 1 бал\n",
    "Рекомендований час: 1хв\n",
    "```"
   ]
  },
  {
   "cell_type": "code",
   "execution_count": 49,
   "metadata": {
    "collapsed": true
   },
   "outputs": [],
   "source": [
    "import pandas as pd"
   ]
  },
  {
   "cell_type": "code",
   "execution_count": 73,
   "metadata": {},
   "outputs": [],
   "source": [
    "df = pd.DataFrame(data, index=labels)"
   ]
  },
  {
   "cell_type": "markdown",
   "metadata": {},
   "source": [
    "#### 8.2. Відобразіть базову інформацію про цей ```DataFrame``` та його дані:\n",
    "```\n",
    "```\n",
    "```\n",
    "```\n",
    "```\n",
    "```\n",
    "```\n",
    "Максимальна оцінка: 1 бал\n",
    "Рекомендований час: 1хв\n",
    "```"
   ]
  },
  {
   "cell_type": "code",
   "execution_count": 54,
   "metadata": {},
   "outputs": [
    {
     "name": "stdout",
     "output_type": "stream",
     "text": [
      "<class 'pandas.core.frame.DataFrame'>\n",
      "Index: 10 entries, a to j\n",
      "Data columns (total 4 columns):\n",
      "age         8 non-null float64\n",
      "animal      10 non-null object\n",
      "priority    10 non-null object\n",
      "visits      10 non-null int64\n",
      "dtypes: float64(1), int64(1), object(2)\n",
      "memory usage: 400.0+ bytes\n"
     ]
    },
    {
     "data": {
      "text/plain": [
       "(            age     visits\n",
       " count  8.000000  10.000000\n",
       " mean   3.437500   1.900000\n",
       " std    2.007797   0.875595\n",
       " min    0.500000   1.000000\n",
       " 25%    2.375000   1.000000\n",
       " 50%    3.000000   2.000000\n",
       " 75%    4.625000   2.750000\n",
       " max    7.000000   3.000000, None)"
      ]
     },
     "execution_count": 54,
     "metadata": {},
     "output_type": "execute_result"
    }
   ],
   "source": [
    "df.describe(), df.info()"
   ]
  },
  {
   "cell_type": "markdown",
   "metadata": {},
   "source": [
    "#### 8.3. Поверніть перші 3 рядки ```DataFrame``` ```df```:\n",
    "```\n",
    "```\n",
    "```\n",
    "```\n",
    "```\n",
    "```\n",
    "```\n",
    "Максимальна оцінка: 1 бал\n",
    "Рекомендований час: 1хв\n",
    "```"
   ]
  },
  {
   "cell_type": "code",
   "execution_count": 55,
   "metadata": {},
   "outputs": [
    {
     "data": {
      "text/html": [
       "<div>\n",
       "<style>\n",
       "    .dataframe thead tr:only-child th {\n",
       "        text-align: right;\n",
       "    }\n",
       "\n",
       "    .dataframe thead th {\n",
       "        text-align: left;\n",
       "    }\n",
       "\n",
       "    .dataframe tbody tr th {\n",
       "        vertical-align: top;\n",
       "    }\n",
       "</style>\n",
       "<table border=\"1\" class=\"dataframe\">\n",
       "  <thead>\n",
       "    <tr style=\"text-align: right;\">\n",
       "      <th></th>\n",
       "      <th>age</th>\n",
       "      <th>animal</th>\n",
       "      <th>priority</th>\n",
       "      <th>visits</th>\n",
       "    </tr>\n",
       "  </thead>\n",
       "  <tbody>\n",
       "    <tr>\n",
       "      <th>a</th>\n",
       "      <td>2.5</td>\n",
       "      <td>cat</td>\n",
       "      <td>yes</td>\n",
       "      <td>1</td>\n",
       "    </tr>\n",
       "    <tr>\n",
       "      <th>b</th>\n",
       "      <td>3.0</td>\n",
       "      <td>cat</td>\n",
       "      <td>yes</td>\n",
       "      <td>3</td>\n",
       "    </tr>\n",
       "    <tr>\n",
       "      <th>c</th>\n",
       "      <td>0.5</td>\n",
       "      <td>snake</td>\n",
       "      <td>no</td>\n",
       "      <td>2</td>\n",
       "    </tr>\n",
       "  </tbody>\n",
       "</table>\n",
       "</div>"
      ],
      "text/plain": [
       "   age animal priority  visits\n",
       "a  2.5    cat      yes       1\n",
       "b  3.0    cat      yes       3\n",
       "c  0.5  snake       no       2"
      ]
     },
     "execution_count": 55,
     "metadata": {},
     "output_type": "execute_result"
    }
   ],
   "source": [
    "df.head(3)"
   ]
  },
  {
   "cell_type": "markdown",
   "metadata": {},
   "source": [
    "#### 8.4. Виберіть стовпчики ```\"animal\"``` та ```\"age\"``` з ```DataFrame``` ```df```:\n",
    "```\n",
    "```\n",
    "```\n",
    "```\n",
    "```\n",
    "```\n",
    "```\n",
    "Максимальна оцінка: 1 бал\n",
    "Рекомендований час: 1хв\n",
    "```"
   ]
  },
  {
   "cell_type": "code",
   "execution_count": 56,
   "metadata": {},
   "outputs": [
    {
     "data": {
      "text/html": [
       "<div>\n",
       "<style>\n",
       "    .dataframe thead tr:only-child th {\n",
       "        text-align: right;\n",
       "    }\n",
       "\n",
       "    .dataframe thead th {\n",
       "        text-align: left;\n",
       "    }\n",
       "\n",
       "    .dataframe tbody tr th {\n",
       "        vertical-align: top;\n",
       "    }\n",
       "</style>\n",
       "<table border=\"1\" class=\"dataframe\">\n",
       "  <thead>\n",
       "    <tr style=\"text-align: right;\">\n",
       "      <th></th>\n",
       "      <th>animal</th>\n",
       "      <th>age</th>\n",
       "    </tr>\n",
       "  </thead>\n",
       "  <tbody>\n",
       "    <tr>\n",
       "      <th>a</th>\n",
       "      <td>cat</td>\n",
       "      <td>2.5</td>\n",
       "    </tr>\n",
       "    <tr>\n",
       "      <th>b</th>\n",
       "      <td>cat</td>\n",
       "      <td>3.0</td>\n",
       "    </tr>\n",
       "    <tr>\n",
       "      <th>c</th>\n",
       "      <td>snake</td>\n",
       "      <td>0.5</td>\n",
       "    </tr>\n",
       "    <tr>\n",
       "      <th>d</th>\n",
       "      <td>dog</td>\n",
       "      <td>NaN</td>\n",
       "    </tr>\n",
       "    <tr>\n",
       "      <th>e</th>\n",
       "      <td>dog</td>\n",
       "      <td>5.0</td>\n",
       "    </tr>\n",
       "    <tr>\n",
       "      <th>f</th>\n",
       "      <td>cat</td>\n",
       "      <td>2.0</td>\n",
       "    </tr>\n",
       "    <tr>\n",
       "      <th>g</th>\n",
       "      <td>snake</td>\n",
       "      <td>4.5</td>\n",
       "    </tr>\n",
       "    <tr>\n",
       "      <th>h</th>\n",
       "      <td>cat</td>\n",
       "      <td>NaN</td>\n",
       "    </tr>\n",
       "    <tr>\n",
       "      <th>i</th>\n",
       "      <td>dog</td>\n",
       "      <td>7.0</td>\n",
       "    </tr>\n",
       "    <tr>\n",
       "      <th>j</th>\n",
       "      <td>dog</td>\n",
       "      <td>3.0</td>\n",
       "    </tr>\n",
       "  </tbody>\n",
       "</table>\n",
       "</div>"
      ],
      "text/plain": [
       "  animal  age\n",
       "a    cat  2.5\n",
       "b    cat  3.0\n",
       "c  snake  0.5\n",
       "d    dog  NaN\n",
       "e    dog  5.0\n",
       "f    cat  2.0\n",
       "g  snake  4.5\n",
       "h    cat  NaN\n",
       "i    dog  7.0\n",
       "j    dog  3.0"
      ]
     },
     "execution_count": 56,
     "metadata": {},
     "output_type": "execute_result"
    }
   ],
   "source": [
    "df[['animal', 'age']]"
   ]
  },
  {
   "cell_type": "markdown",
   "metadata": {},
   "source": [
    "#### 8.5 Виберіть дані з рядків ```[3, 4, 8]``` та стовпчиків ```['animal', 'age']```:\n",
    "```\n",
    "```\n",
    "```\n",
    "```\n",
    "```\n",
    "```\n",
    "```\n",
    "Максимальна оцінка: 1 бал\n",
    "Рекомендований час: 1хв\n",
    "```"
   ]
  },
  {
   "cell_type": "code",
   "execution_count": 57,
   "metadata": {},
   "outputs": [
    {
     "data": {
      "text/html": [
       "<div>\n",
       "<style>\n",
       "    .dataframe thead tr:only-child th {\n",
       "        text-align: right;\n",
       "    }\n",
       "\n",
       "    .dataframe thead th {\n",
       "        text-align: left;\n",
       "    }\n",
       "\n",
       "    .dataframe tbody tr th {\n",
       "        vertical-align: top;\n",
       "    }\n",
       "</style>\n",
       "<table border=\"1\" class=\"dataframe\">\n",
       "  <thead>\n",
       "    <tr style=\"text-align: right;\">\n",
       "      <th></th>\n",
       "      <th>animal</th>\n",
       "      <th>age</th>\n",
       "    </tr>\n",
       "  </thead>\n",
       "  <tbody>\n",
       "    <tr>\n",
       "      <th>d</th>\n",
       "      <td>dog</td>\n",
       "      <td>NaN</td>\n",
       "    </tr>\n",
       "    <tr>\n",
       "      <th>e</th>\n",
       "      <td>dog</td>\n",
       "      <td>5.0</td>\n",
       "    </tr>\n",
       "    <tr>\n",
       "      <th>i</th>\n",
       "      <td>dog</td>\n",
       "      <td>7.0</td>\n",
       "    </tr>\n",
       "  </tbody>\n",
       "</table>\n",
       "</div>"
      ],
      "text/plain": [
       "  animal  age\n",
       "d    dog  NaN\n",
       "e    dog  5.0\n",
       "i    dog  7.0"
      ]
     },
     "execution_count": 57,
     "metadata": {},
     "output_type": "execute_result"
    }
   ],
   "source": [
    "df[['animal', 'age']].iloc[[3, 4, 8]]"
   ]
  },
  {
   "cell_type": "markdown",
   "metadata": {},
   "source": [
    "#### 8.6. Виберіть лише ті рядки, в яких к-сть візитів більша ніж 3:\n",
    "```\n",
    "```\n",
    "```\n",
    "```\n",
    "```\n",
    "```\n",
    "```\n",
    "Максимальна оцінка: 1 бал\n",
    "Рекомендований час: 1хв\n",
    "```"
   ]
  },
  {
   "cell_type": "code",
   "execution_count": 58,
   "metadata": {},
   "outputs": [
    {
     "data": {
      "text/html": [
       "<div>\n",
       "<style>\n",
       "    .dataframe thead tr:only-child th {\n",
       "        text-align: right;\n",
       "    }\n",
       "\n",
       "    .dataframe thead th {\n",
       "        text-align: left;\n",
       "    }\n",
       "\n",
       "    .dataframe tbody tr th {\n",
       "        vertical-align: top;\n",
       "    }\n",
       "</style>\n",
       "<table border=\"1\" class=\"dataframe\">\n",
       "  <thead>\n",
       "    <tr style=\"text-align: right;\">\n",
       "      <th></th>\n",
       "      <th>age</th>\n",
       "      <th>animal</th>\n",
       "      <th>priority</th>\n",
       "      <th>visits</th>\n",
       "    </tr>\n",
       "  </thead>\n",
       "  <tbody>\n",
       "    <tr>\n",
       "      <th>b</th>\n",
       "      <td>3.0</td>\n",
       "      <td>cat</td>\n",
       "      <td>yes</td>\n",
       "      <td>3</td>\n",
       "    </tr>\n",
       "    <tr>\n",
       "      <th>d</th>\n",
       "      <td>NaN</td>\n",
       "      <td>dog</td>\n",
       "      <td>yes</td>\n",
       "      <td>3</td>\n",
       "    </tr>\n",
       "    <tr>\n",
       "      <th>f</th>\n",
       "      <td>2.0</td>\n",
       "      <td>cat</td>\n",
       "      <td>no</td>\n",
       "      <td>3</td>\n",
       "    </tr>\n",
       "  </tbody>\n",
       "</table>\n",
       "</div>"
      ],
      "text/plain": [
       "   age animal priority  visits\n",
       "b  3.0    cat      yes       3\n",
       "d  NaN    dog      yes       3\n",
       "f  2.0    cat       no       3"
      ]
     },
     "execution_count": 58,
     "metadata": {},
     "output_type": "execute_result"
    }
   ],
   "source": [
    "df[df.visits >= 3]"
   ]
  },
  {
   "cell_type": "markdown",
   "metadata": {},
   "source": [
    "#### 8.7. Виберіть рядки, де вік відсутній, тобто ```NaN```:\n",
    "```\n",
    "```\n",
    "```\n",
    "```\n",
    "```\n",
    "```\n",
    "```\n",
    "Максимальна оцінка: 1 бал\n",
    "Рекомендований час: 1хв\n",
    "```"
   ]
  },
  {
   "cell_type": "code",
   "execution_count": 60,
   "metadata": {},
   "outputs": [
    {
     "data": {
      "text/html": [
       "<div>\n",
       "<style>\n",
       "    .dataframe thead tr:only-child th {\n",
       "        text-align: right;\n",
       "    }\n",
       "\n",
       "    .dataframe thead th {\n",
       "        text-align: left;\n",
       "    }\n",
       "\n",
       "    .dataframe tbody tr th {\n",
       "        vertical-align: top;\n",
       "    }\n",
       "</style>\n",
       "<table border=\"1\" class=\"dataframe\">\n",
       "  <thead>\n",
       "    <tr style=\"text-align: right;\">\n",
       "      <th></th>\n",
       "      <th>age</th>\n",
       "      <th>animal</th>\n",
       "      <th>priority</th>\n",
       "      <th>visits</th>\n",
       "    </tr>\n",
       "  </thead>\n",
       "  <tbody>\n",
       "    <tr>\n",
       "      <th>d</th>\n",
       "      <td>NaN</td>\n",
       "      <td>dog</td>\n",
       "      <td>yes</td>\n",
       "      <td>3</td>\n",
       "    </tr>\n",
       "    <tr>\n",
       "      <th>h</th>\n",
       "      <td>NaN</td>\n",
       "      <td>cat</td>\n",
       "      <td>yes</td>\n",
       "      <td>1</td>\n",
       "    </tr>\n",
       "  </tbody>\n",
       "</table>\n",
       "</div>"
      ],
      "text/plain": [
       "   age animal priority  visits\n",
       "d  NaN    dog      yes       3\n",
       "h  NaN    cat      yes       1"
      ]
     },
     "execution_count": 60,
     "metadata": {},
     "output_type": "execute_result"
    }
   ],
   "source": [
    "df[df.age.isnull()]"
   ]
  },
  {
   "cell_type": "markdown",
   "metadata": {},
   "source": [
    "#### 8.8. Виберіть рядки з котами, вік яких більше ніж 2:\n",
    "```\n",
    "```\n",
    "```\n",
    "```\n",
    "```\n",
    "```\n",
    "```\n",
    "Максимальна оцінка: 1 бал\n",
    "Рекомендований час: 1хв\n",
    "```"
   ]
  },
  {
   "cell_type": "code",
   "execution_count": 61,
   "metadata": {},
   "outputs": [
    {
     "data": {
      "text/html": [
       "<div>\n",
       "<style>\n",
       "    .dataframe thead tr:only-child th {\n",
       "        text-align: right;\n",
       "    }\n",
       "\n",
       "    .dataframe thead th {\n",
       "        text-align: left;\n",
       "    }\n",
       "\n",
       "    .dataframe tbody tr th {\n",
       "        vertical-align: top;\n",
       "    }\n",
       "</style>\n",
       "<table border=\"1\" class=\"dataframe\">\n",
       "  <thead>\n",
       "    <tr style=\"text-align: right;\">\n",
       "      <th></th>\n",
       "      <th>age</th>\n",
       "      <th>animal</th>\n",
       "      <th>priority</th>\n",
       "      <th>visits</th>\n",
       "    </tr>\n",
       "  </thead>\n",
       "  <tbody>\n",
       "    <tr>\n",
       "      <th>a</th>\n",
       "      <td>2.5</td>\n",
       "      <td>cat</td>\n",
       "      <td>yes</td>\n",
       "      <td>1</td>\n",
       "    </tr>\n",
       "    <tr>\n",
       "      <th>b</th>\n",
       "      <td>3.0</td>\n",
       "      <td>cat</td>\n",
       "      <td>yes</td>\n",
       "      <td>3</td>\n",
       "    </tr>\n",
       "    <tr>\n",
       "      <th>f</th>\n",
       "      <td>2.0</td>\n",
       "      <td>cat</td>\n",
       "      <td>no</td>\n",
       "      <td>3</td>\n",
       "    </tr>\n",
       "  </tbody>\n",
       "</table>\n",
       "</div>"
      ],
      "text/plain": [
       "   age animal priority  visits\n",
       "a  2.5    cat      yes       1\n",
       "b  3.0    cat      yes       3\n",
       "f  2.0    cat       no       3"
      ]
     },
     "execution_count": 61,
     "metadata": {},
     "output_type": "execute_result"
    }
   ],
   "source": [
    "df[(df.animal == 'cat') & (df.age >= 2)]"
   ]
  },
  {
   "cell_type": "markdown",
   "metadata": {},
   "source": [
    "#### 8.9. Підрахуйте середній вік для кожного з типів тварин:\n",
    "```\n",
    "```\n",
    "```\n",
    "```\n",
    "```\n",
    "```\n",
    "```\n",
    "Максимальна оцінка: 2 бали\n",
    "Рекомендований час: 2хв\n",
    "```"
   ]
  },
  {
   "cell_type": "code",
   "execution_count": 64,
   "metadata": {},
   "outputs": [
    {
     "data": {
      "text/plain": [
       "animal\n",
       "cat      2.5\n",
       "dog      5.0\n",
       "snake    2.5\n",
       "Name: age, dtype: float64"
      ]
     },
     "execution_count": 64,
     "metadata": {},
     "output_type": "execute_result"
    }
   ],
   "source": [
    "df.groupby(by='animal').age.mean()"
   ]
  },
  {
   "cell_type": "markdown",
   "metadata": {},
   "source": [
    "#### 8.10. Відсортуйте ```df``` по-перше за віком в спадаючому порядку, по-друге за к-стю візитів в зростаючому порядку:\n",
    "```\n",
    "```\n",
    "```\n",
    "```\n",
    "```\n",
    "```\n",
    "```\n",
    "Максимальна оцінка: 2 бали\n",
    "Рекомендований час: 2хв\n",
    "```"
   ]
  },
  {
   "cell_type": "code",
   "execution_count": 65,
   "metadata": {},
   "outputs": [
    {
     "data": {
      "text/html": [
       "<div>\n",
       "<style>\n",
       "    .dataframe thead tr:only-child th {\n",
       "        text-align: right;\n",
       "    }\n",
       "\n",
       "    .dataframe thead th {\n",
       "        text-align: left;\n",
       "    }\n",
       "\n",
       "    .dataframe tbody tr th {\n",
       "        vertical-align: top;\n",
       "    }\n",
       "</style>\n",
       "<table border=\"1\" class=\"dataframe\">\n",
       "  <thead>\n",
       "    <tr style=\"text-align: right;\">\n",
       "      <th></th>\n",
       "      <th>age</th>\n",
       "      <th>animal</th>\n",
       "      <th>priority</th>\n",
       "      <th>visits</th>\n",
       "    </tr>\n",
       "  </thead>\n",
       "  <tbody>\n",
       "    <tr>\n",
       "      <th>i</th>\n",
       "      <td>7.0</td>\n",
       "      <td>dog</td>\n",
       "      <td>no</td>\n",
       "      <td>2</td>\n",
       "    </tr>\n",
       "    <tr>\n",
       "      <th>e</th>\n",
       "      <td>5.0</td>\n",
       "      <td>dog</td>\n",
       "      <td>no</td>\n",
       "      <td>2</td>\n",
       "    </tr>\n",
       "    <tr>\n",
       "      <th>g</th>\n",
       "      <td>4.5</td>\n",
       "      <td>snake</td>\n",
       "      <td>no</td>\n",
       "      <td>1</td>\n",
       "    </tr>\n",
       "    <tr>\n",
       "      <th>j</th>\n",
       "      <td>3.0</td>\n",
       "      <td>dog</td>\n",
       "      <td>no</td>\n",
       "      <td>1</td>\n",
       "    </tr>\n",
       "    <tr>\n",
       "      <th>b</th>\n",
       "      <td>3.0</td>\n",
       "      <td>cat</td>\n",
       "      <td>yes</td>\n",
       "      <td>3</td>\n",
       "    </tr>\n",
       "    <tr>\n",
       "      <th>a</th>\n",
       "      <td>2.5</td>\n",
       "      <td>cat</td>\n",
       "      <td>yes</td>\n",
       "      <td>1</td>\n",
       "    </tr>\n",
       "    <tr>\n",
       "      <th>f</th>\n",
       "      <td>2.0</td>\n",
       "      <td>cat</td>\n",
       "      <td>no</td>\n",
       "      <td>3</td>\n",
       "    </tr>\n",
       "    <tr>\n",
       "      <th>c</th>\n",
       "      <td>0.5</td>\n",
       "      <td>snake</td>\n",
       "      <td>no</td>\n",
       "      <td>2</td>\n",
       "    </tr>\n",
       "    <tr>\n",
       "      <th>h</th>\n",
       "      <td>NaN</td>\n",
       "      <td>cat</td>\n",
       "      <td>yes</td>\n",
       "      <td>1</td>\n",
       "    </tr>\n",
       "    <tr>\n",
       "      <th>d</th>\n",
       "      <td>NaN</td>\n",
       "      <td>dog</td>\n",
       "      <td>yes</td>\n",
       "      <td>3</td>\n",
       "    </tr>\n",
       "  </tbody>\n",
       "</table>\n",
       "</div>"
      ],
      "text/plain": [
       "   age animal priority  visits\n",
       "i  7.0    dog       no       2\n",
       "e  5.0    dog       no       2\n",
       "g  4.5  snake       no       1\n",
       "j  3.0    dog       no       1\n",
       "b  3.0    cat      yes       3\n",
       "a  2.5    cat      yes       1\n",
       "f  2.0    cat       no       3\n",
       "c  0.5  snake       no       2\n",
       "h  NaN    cat      yes       1\n",
       "d  NaN    dog      yes       3"
      ]
     },
     "execution_count": 65,
     "metadata": {},
     "output_type": "execute_result"
    }
   ],
   "source": [
    "df.sort_values(['age', 'visits'], ascending=[False, True])"
   ]
  },
  {
   "cell_type": "markdown",
   "metadata": {},
   "source": [
    "#### 8.11. Стовпець \"priority\" містить значення \"yes\" та \"no\". Замінити цей стовпець стовпчиком булевих значень: \"yes\" на True, а \"no\" на False:\n",
    "```\n",
    "```\n",
    "```\n",
    "```\n",
    "```\n",
    "```\n",
    "```\n",
    "Максимальна оцінка: 2 бали\n",
    "Рекомендований час: 2хв\n",
    "```"
   ]
  },
  {
   "cell_type": "code",
   "execution_count": 77,
   "metadata": {},
   "outputs": [
    {
     "data": {
      "text/html": [
       "<div>\n",
       "<style>\n",
       "    .dataframe thead tr:only-child th {\n",
       "        text-align: right;\n",
       "    }\n",
       "\n",
       "    .dataframe thead th {\n",
       "        text-align: left;\n",
       "    }\n",
       "\n",
       "    .dataframe tbody tr th {\n",
       "        vertical-align: top;\n",
       "    }\n",
       "</style>\n",
       "<table border=\"1\" class=\"dataframe\">\n",
       "  <thead>\n",
       "    <tr style=\"text-align: right;\">\n",
       "      <th></th>\n",
       "      <th>age</th>\n",
       "      <th>animal</th>\n",
       "      <th>priority</th>\n",
       "      <th>visits</th>\n",
       "    </tr>\n",
       "  </thead>\n",
       "  <tbody>\n",
       "    <tr>\n",
       "      <th>a</th>\n",
       "      <td>2.5</td>\n",
       "      <td>cat</td>\n",
       "      <td>True</td>\n",
       "      <td>1</td>\n",
       "    </tr>\n",
       "    <tr>\n",
       "      <th>b</th>\n",
       "      <td>3.0</td>\n",
       "      <td>cat</td>\n",
       "      <td>True</td>\n",
       "      <td>3</td>\n",
       "    </tr>\n",
       "    <tr>\n",
       "      <th>c</th>\n",
       "      <td>0.5</td>\n",
       "      <td>snake</td>\n",
       "      <td>False</td>\n",
       "      <td>2</td>\n",
       "    </tr>\n",
       "    <tr>\n",
       "      <th>d</th>\n",
       "      <td>NaN</td>\n",
       "      <td>dog</td>\n",
       "      <td>True</td>\n",
       "      <td>3</td>\n",
       "    </tr>\n",
       "    <tr>\n",
       "      <th>e</th>\n",
       "      <td>5.0</td>\n",
       "      <td>dog</td>\n",
       "      <td>False</td>\n",
       "      <td>2</td>\n",
       "    </tr>\n",
       "    <tr>\n",
       "      <th>f</th>\n",
       "      <td>2.0</td>\n",
       "      <td>cat</td>\n",
       "      <td>False</td>\n",
       "      <td>3</td>\n",
       "    </tr>\n",
       "    <tr>\n",
       "      <th>g</th>\n",
       "      <td>4.5</td>\n",
       "      <td>snake</td>\n",
       "      <td>False</td>\n",
       "      <td>1</td>\n",
       "    </tr>\n",
       "    <tr>\n",
       "      <th>h</th>\n",
       "      <td>NaN</td>\n",
       "      <td>cat</td>\n",
       "      <td>True</td>\n",
       "      <td>1</td>\n",
       "    </tr>\n",
       "    <tr>\n",
       "      <th>i</th>\n",
       "      <td>7.0</td>\n",
       "      <td>dog</td>\n",
       "      <td>False</td>\n",
       "      <td>2</td>\n",
       "    </tr>\n",
       "    <tr>\n",
       "      <th>j</th>\n",
       "      <td>3.0</td>\n",
       "      <td>dog</td>\n",
       "      <td>False</td>\n",
       "      <td>1</td>\n",
       "    </tr>\n",
       "  </tbody>\n",
       "</table>\n",
       "</div>"
      ],
      "text/plain": [
       "   age animal  priority  visits\n",
       "a  2.5    cat      True       1\n",
       "b  3.0    cat      True       3\n",
       "c  0.5  snake     False       2\n",
       "d  NaN    dog      True       3\n",
       "e  5.0    dog     False       2\n",
       "f  2.0    cat     False       3\n",
       "g  4.5  snake     False       1\n",
       "h  NaN    cat      True       1\n",
       "i  7.0    dog     False       2\n",
       "j  3.0    dog     False       1"
      ]
     },
     "execution_count": 77,
     "metadata": {},
     "output_type": "execute_result"
    }
   ],
   "source": [
    "d = {'yes':True, 'no':False}\n",
    "df.priority.replace(d, inplace=True)\n",
    "df"
   ]
  },
  {
   "cell_type": "markdown",
   "metadata": {},
   "source": [
    "## Scipy & Matplotlib"
   ]
  },
  {
   "cell_type": "markdown",
   "metadata": {},
   "source": [
    "### 9. За допомогою scipy згенерувати та за допомогою matplotlib побудувати функцію розподілу ймовірностей для вибірок, правильно підписавши осі та назвавши графік з обраними відповідними параметрами:"
   ]
  },
  {
   "cell_type": "markdown",
   "metadata": {},
   "source": [
    "#### 9.1. Для виібрки з нормально розподіленої випадкової величини:\n",
    "```\n",
    "```\n",
    "```\n",
    "```\n",
    "```\n",
    "```\n",
    "```\n",
    "Максимальна оцінка: 3 бали\n",
    "Рекомендований час: 5хв\n",
    "```"
   ]
  },
  {
   "cell_type": "code",
   "execution_count": null,
   "metadata": {
    "collapsed": true
   },
   "outputs": [],
   "source": []
  },
  {
   "cell_type": "markdown",
   "metadata": {},
   "source": [
    "#### 9.2. Для вибірки з розподілу Бернулі:\n",
    "```\n",
    "```\n",
    "```\n",
    "```\n",
    "```\n",
    "```\n",
    "```\n",
    "Максимальна оцінка: 3 бали\n",
    "Рекомендований час: 5хв\n",
    "```"
   ]
  },
  {
   "cell_type": "code",
   "execution_count": null,
   "metadata": {
    "collapsed": true
   },
   "outputs": [],
   "source": []
  },
  {
   "cell_type": "markdown",
   "metadata": {},
   "source": [
    "#### 9.3. Для вибірки з біноміального розподілу:\n",
    "```\n",
    "```\n",
    "```\n",
    "```\n",
    "```\n",
    "```\n",
    "```\n",
    "Максимальна оцінка: 3 бали\n",
    "Рекомендований час: 5хв\n",
    "```"
   ]
  },
  {
   "cell_type": "code",
   "execution_count": null,
   "metadata": {
    "collapsed": true
   },
   "outputs": [],
   "source": []
  },
  {
   "cell_type": "markdown",
   "metadata": {
    "collapsed": true
   },
   "source": [
    "#### 9.4. Для вибірки з розподілу Пуассона:\n",
    "```\n",
    "```\n",
    "```\n",
    "```\n",
    "```\n",
    "```\n",
    "```\n",
    "Максимальна оцінка: 3 бали\n",
    "Рекомендований час: 5хв\n",
    "```"
   ]
  },
  {
   "cell_type": "code",
   "execution_count": null,
   "metadata": {
    "collapsed": true
   },
   "outputs": [],
   "source": []
  }
 ],
 "metadata": {
  "kernelspec": {
   "display_name": "Python 3",
   "language": "python",
   "name": "python3"
  },
  "language_info": {
   "codemirror_mode": {
    "name": "ipython",
    "version": 3
   },
   "file_extension": ".py",
   "mimetype": "text/x-python",
   "name": "python",
   "nbconvert_exporter": "python",
   "pygments_lexer": "ipython3",
   "version": "3.6.2"
  }
 },
 "nbformat": 4,
 "nbformat_minor": 2
}
