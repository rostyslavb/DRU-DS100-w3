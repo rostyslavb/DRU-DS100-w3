{
 "cells": [
  {
   "cell_type": "markdown",
   "metadata": {},
   "source": [
    "# DataRoot University DS100 Test #2 Second Try\n",
    "На проходження тесту виділяється 59 хвилин."
   ]
  },
  {
   "cell_type": "markdown",
   "metadata": {},
   "source": [
    "## Python"
   ]
  },
  {
   "cell_type": "markdown",
   "metadata": {},
   "source": [
    "### 1.  Напишіть ф-цію - генератор паролів. Будьте креативними в тому, як ви створюєте паролі - сильні паролі містять малі та великі літери, цифри та символи. Паролі повинні бути випадковими. Ф-ція повинна створювати новий пароль кожного разу при її виклику. Ф-ція приймає параметр n (n > 6), який відповідає за довжину паролю.\n",
    "\n",
    "```\n",
    "```\n",
    "```\n",
    "```\n",
    "```\n",
    "```\n",
    "```\n",
    "Максимальна оцінка: 2 бали\n",
    "Рекомендований час: 6хв\n",
    "```"
   ]
  },
  {
   "cell_type": "code",
   "execution_count": 37,
   "metadata": {},
   "outputs": [
    {
     "data": {
      "text/plain": [
       "'Gtsr2c^jid'"
      ]
     },
     "execution_count": 37,
     "metadata": {},
     "output_type": "execute_result"
    }
   ],
   "source": [
    "def generate_password(n, num=1, upper_case=1, special=1):\n",
    "    \n",
    "    if n < 6:\n",
    "        raise Exception('Password will be too short!')\n",
    "    elif num + upper_case + special >= n:\n",
    "        raise Exception('Something`s wrong with counts!')\n",
    "    \n",
    "    import random\n",
    "    \n",
    "    symbols = ['1234567890',\n",
    "               'QAZWSXEDCRFVTGBYHNUJMIKOLP',\n",
    "               '_-$&№@!%=+#^',\n",
    "               'qazwsxedcrfvtgbyhnujmiklp']\n",
    "    \n",
    "    counts = [num, upper_case, special, n - num - upper_case - special]\n",
    "        \n",
    "    password = []\n",
    "    for sym_list, count in zip(symbols, counts):\n",
    "        password.extend(random.sample(sym_list, count))\n",
    "    random.shuffle(password)\n",
    "    return ''.join(password)\n",
    "\n",
    "generate_password(10)"
   ]
  },
  {
   "cell_type": "markdown",
   "metadata": {},
   "source": [
    "### 2.  Реалізуйте ф-цію, яка перевіряє, чи є слово паліндромом:\n",
    "\n",
    "```\n",
    "```\n",
    "```\n",
    "```\n",
    "```\n",
    "```\n",
    "```\n",
    "Максимальна оцінка: 2 бали\n",
    "Рекомендований час: 6хв\n",
    "```"
   ]
  },
  {
   "cell_type": "code",
   "execution_count": 42,
   "metadata": {},
   "outputs": [
    {
     "data": {
      "text/plain": [
       "True"
      ]
     },
     "execution_count": 42,
     "metadata": {},
     "output_type": "execute_result"
    }
   ],
   "source": [
    "def is_palindrome(string):\n",
    "    # exceptions\n",
    "    restricted_symbols = [' ', '!', '.',\n",
    "                          '?', ',', '_',\n",
    "                          '$', '#', '@',\n",
    "                          '\"', \"'\", ':',\n",
    "                          ';', '`', '*',\n",
    "                          '(', ')', '%',\n",
    "                          '-', '--', '---']\n",
    "    \n",
    "    pure_string = ''.join([s for s in string.lower() if s not in restricted_symbols])\n",
    "\n",
    "    if pure_string == pure_string[::-1]:\n",
    "        return True\n",
    "    else:\n",
    "        return False\n",
    "    \n",
    "is_palindrome('Kekekek')"
   ]
  },
  {
   "cell_type": "markdown",
   "metadata": {},
   "source": [
    "### 3. Напишіть програму, яка приймає 2 невід'ємні цифри, X, Y як вхід і генерує 2-мірний масив. Значення елемента в i-му рядку і j-му стовпчику масиву має бути i * j, де i = 0, 1 .., X-1; j = 0, 1, .., Y-1.\n",
    "\n",
    "Приклад:\n",
    "Припустімо, що до програми наведені наступні входи:\n",
    "3,5. \n",
    "Виходом програми має бути:\n",
    "[[0, 0, 0, 0, 0], [0, 1, 2, 3, 4], [0, 2, 4, 6, 8]]\n",
    "\n",
    "```\n",
    "```\n",
    "```\n",
    "```\n",
    "```\n",
    "```\n",
    "```\n",
    "Максимальна оцінка: 2 бали\n",
    "Рекомендований час: 6хв\n",
    "```"
   ]
  },
  {
   "cell_type": "code",
   "execution_count": 48,
   "metadata": {},
   "outputs": [
    {
     "data": {
      "text/plain": [
       "[[0, 0, 0, 0, 0], [0, 1, 2, 3, 4], [0, 2, 4, 6, 8]]"
      ]
     },
     "execution_count": 48,
     "metadata": {},
     "output_type": "execute_result"
    }
   ],
   "source": [
    "def create_array(X, Y):\n",
    "    if (not isinstance(X, int)) or (not isinstance(Y, int)):\n",
    "        raise Exception(\"Array shape must be integer.\")\n",
    "    elif X <= 0 or Y <= 0:\n",
    "        raise Exception(\"Array shape cannot be negative.\")\n",
    "    \n",
    "    return [[i*j for i in range(Y)] for j in range(X)]\n",
    "\n",
    "create_array(3, 5)    "
   ]
  },
  {
   "cell_type": "markdown",
   "metadata": {},
   "source": [
    "### 4. Реалізуйте клас Torus, який створюється за двома радіусами r, R, R > r. Містить два методи, які повертають відповідно: площу поверхні та об'єм.\n",
    "\n",
    "```\n",
    "```\n",
    "```\n",
    "```\n",
    "```\n",
    "```\n",
    "```\n",
    "Максимальна оцінка: 3 бали\n",
    "Рекомендований час: 6хв\n",
    "```"
   ]
  },
  {
   "cell_type": "code",
   "execution_count": 49,
   "metadata": {},
   "outputs": [
    {
     "data": {
      "text/plain": [
       "(1579.1367041742974, 3158.273408348595)"
      ]
     },
     "execution_count": 49,
     "metadata": {},
     "output_type": "execute_result"
    }
   ],
   "source": [
    "from math import pi\n",
    "class Torus:\n",
    "    def __init__(self, r, R):\n",
    "        if R < r:\n",
    "            raise Exception('Thorus with these parameters cannot exist.')\n",
    "        self.r = r\n",
    "        self.R = R\n",
    "    \n",
    "    def square(self):\n",
    "        return (2*pi)**2 * self.R * self.r\n",
    "    \n",
    "    def volume(self):\n",
    "        return 2* (pi*self.r)**2 * self.R\n",
    "    \n",
    "one = Torus(4, 10)\n",
    "one.square(), one.volume()\n",
    "#two = Torus(10, 4)        "
   ]
  },
  {
   "cell_type": "markdown",
   "metadata": {},
   "source": [
    "### 5.  Реалізуйте декоратор, який засікає час виконання ф-ції та логує його.\n",
    "\n",
    "```\n",
    "```\n",
    "```\n",
    "```\n",
    "```\n",
    "```\n",
    "```\n",
    "Максимальна оцінка: 2 бали\n",
    "Рекомендований час: 6хв\n",
    "```"
   ]
  },
  {
   "cell_type": "code",
   "execution_count": 82,
   "metadata": {},
   "outputs": [
    {
     "name": "stdout",
     "output_type": "stream",
     "text": [
      "Function `test` was executed in 2.36E-01 s.\n"
     ]
    }
   ],
   "source": [
    "import time\n",
    "\n",
    "def log_time(func):\n",
    "    def wrapper(*args, **kargs):\n",
    "        start = time.time()\n",
    "        func(*args, **kargs)\n",
    "        end = time.time()\n",
    "        func_time = end - start\n",
    "        print(f'Function `{func.__name__}` was executed in {func_time:.2E} s.')\n",
    "    return wrapper\n",
    "\n",
    "@log_time\n",
    "def test():\n",
    "    return create_array(1000, 1000) \n",
    "\n",
    "test()"
   ]
  },
  {
   "cell_type": "markdown",
   "metadata": {
    "collapsed": true
   },
   "source": [
    "## Libraries: numpy, scipy, pandas, matplotlib"
   ]
  },
  {
   "cell_type": "markdown",
   "metadata": {},
   "source": [
    "### Numpy"
   ]
  },
  {
   "cell_type": "markdown",
   "metadata": {
    "collapsed": true
   },
   "source": [
    "### 6. Помножте масив розмірності (5, 5, 3), на масив розмірності (5,5).\n",
    "```\n",
    "```\n",
    "```\n",
    "```\n",
    "```\n",
    "```\n",
    "```\n",
    "Максимальна оцінка: 2 бали\n",
    "Рекомендований час: 3хв\n",
    "```"
   ]
  },
  {
   "cell_type": "code",
   "execution_count": 84,
   "metadata": {
    "collapsed": true
   },
   "outputs": [],
   "source": [
    "import numpy as np"
   ]
  },
  {
   "cell_type": "code",
   "execution_count": 99,
   "metadata": {},
   "outputs": [
    {
     "data": {
      "text/plain": [
       "array([[[2, 1, 3],\n",
       "        [0, 0, 1],\n",
       "        [3, 1, 2],\n",
       "        [2, 1, 2],\n",
       "        [3, 1, 3]],\n",
       "\n",
       "       [[4, 1, 2],\n",
       "        [1, 1, 0],\n",
       "        [2, 1, 1],\n",
       "        [3, 2, 2],\n",
       "        [4, 2, 2]],\n",
       "\n",
       "       [[1, 3, 3],\n",
       "        [1, 0, 0],\n",
       "        [0, 2, 2],\n",
       "        [1, 2, 2],\n",
       "        [1, 3, 3]],\n",
       "\n",
       "       [[2, 0, 2],\n",
       "        [0, 0, 1],\n",
       "        [2, 0, 1],\n",
       "        [2, 0, 3],\n",
       "        [3, 0, 3]],\n",
       "\n",
       "       [[2, 2, 3],\n",
       "        [1, 0, 1],\n",
       "        [2, 1, 2],\n",
       "        [2, 2, 3],\n",
       "        [3, 2, 4]]])"
      ]
     },
     "execution_count": 99,
     "metadata": {},
     "output_type": "execute_result"
    }
   ],
   "source": [
    "A = np.random.randint(2, size=(5, 5, 3))\n",
    "B = np.random.randint(2, size=(5, 5))\n",
    "np.matmul(B, A)"
   ]
  },
  {
   "cell_type": "markdown",
   "metadata": {},
   "source": [
    "### 7. Поверніть з 2-вимірного масиву лінійно незалежні рядки.\n",
    "```\n",
    "```\n",
    "```\n",
    "```\n",
    "```\n",
    "```\n",
    "```\n",
    "Максимальна оцінка: 3 бали\n",
    "Рекомендований час: 6хв\n",
    "```"
   ]
  },
  {
   "cell_type": "code",
   "execution_count": 100,
   "metadata": {
    "collapsed": true
   },
   "outputs": [],
   "source": [
    "A7 = np.matrix('1 1 1 1; 1 2 3 4; 3 3 3 3; 6 7 8 9')\n",
    "\n"
   ]
  },
  {
   "cell_type": "markdown",
   "metadata": {},
   "source": [
    "### 8. Створіть випадковий вектор розміру 20 і замініть мінімальне за модулем значення на 0\n",
    "```\n",
    "```\n",
    "```\n",
    "```\n",
    "```\n",
    "```\n",
    "```\n",
    "Максимальна оцінка: 2 бали\n",
    "Рекомендований час: 3хв\n",
    "```"
   ]
  },
  {
   "cell_type": "code",
   "execution_count": null,
   "metadata": {
    "collapsed": true
   },
   "outputs": [],
   "source": []
  },
  {
   "cell_type": "markdown",
   "metadata": {},
   "source": [
    "### Pandas"
   ]
  },
  {
   "cell_type": "markdown",
   "metadata": {},
   "source": [
    "### 9. Скажімо, є DataFrame df зі стовпчиком \"A\" цілих чисел. Наприклад:\n"
   ]
  },
  {
   "cell_type": "code",
   "execution_count": 14,
   "metadata": {},
   "outputs": [],
   "source": [
    "import numpy as np\n",
    "import pandas as pd\n",
    "\n",
    "df = pd.DataFrame({'A': [1, 2, 2, 3, 4, 5, 5, 5, 6, 7, 7]})"
   ]
  },
  {
   "cell_type": "markdown",
   "metadata": {},
   "source": [
    "Відфільтруйте рядки, які містять таке ж число, як рядок, що безпосередньо вище.\n",
    "```\n",
    "```\n",
    "```\n",
    "```\n",
    "```\n",
    "```\n",
    "```\n",
    "Максимальна оцінка: 2 бали\n",
    "Рекомендований час: 3хв\n",
    "```"
   ]
  },
  {
   "cell_type": "code",
   "execution_count": null,
   "metadata": {
    "collapsed": true
   },
   "outputs": [],
   "source": []
  },
  {
   "cell_type": "markdown",
   "metadata": {},
   "source": [
    "### 10. Скажімо, є DataFrame df з числовими значеннями:"
   ]
  },
  {
   "cell_type": "code",
   "execution_count": 11,
   "metadata": {},
   "outputs": [],
   "source": [
    "df = pd.DataFrame(np.random.random(size=(5, 3)))"
   ]
  },
  {
   "cell_type": "markdown",
   "metadata": {},
   "source": [
    "Відніміть середнє значення рядку від кожного елементу у відповідному рядку.\n",
    "```\n",
    "```\n",
    "```\n",
    "```\n",
    "```\n",
    "```\n",
    "```\n",
    "Максимальна оцінка: 2 бали\n",
    "Рекомендований час: 3хв\n",
    "```"
   ]
  },
  {
   "cell_type": "code",
   "execution_count": null,
   "metadata": {
    "collapsed": true
   },
   "outputs": [],
   "source": []
  },
  {
   "cell_type": "markdown",
   "metadata": {},
   "source": [
    "### 11. Є DataFrame df зі стовпцями: групи - \"grps\" та значення - \"vals\":"
   ]
  },
  {
   "cell_type": "code",
   "execution_count": 13,
   "metadata": {},
   "outputs": [],
   "source": [
    "df = pd.DataFrame({'grps': list('aaabbcaabcccbbc'), \n",
    "                   'vals': [12,345,3,1,45,14,4,52,54,23,235,21,57,3,87]})"
   ]
  },
  {
   "cell_type": "markdown",
   "metadata": {
    "collapsed": true
   },
   "source": [
    "Для кожної групи знайдіть суму трьох найбільших значень.\n",
    "```\n",
    "```\n",
    "```\n",
    "```\n",
    "```\n",
    "```\n",
    "```\n",
    "Максимальна оцінка: 2 бали\n",
    "Рекомендований час: 3хв\n",
    "```"
   ]
  },
  {
   "cell_type": "code",
   "execution_count": null,
   "metadata": {
    "collapsed": true
   },
   "outputs": [],
   "source": []
  },
  {
   "cell_type": "markdown",
   "metadata": {},
   "source": [
    "## Scipy & Matplotlib"
   ]
  },
  {
   "cell_type": "markdown",
   "metadata": {},
   "source": [
    "### 12. За допомогою scipy згенерувати та за допомогою matplotlib побудувати вибірки, правильно підписавши осі та назвавши графік з обраними відповідними параметрами(завдання на повторення):"
   ]
  },
  {
   "cell_type": "markdown",
   "metadata": {},
   "source": [
    "#### 12.1. Виібрку з нормально розподіленої випадкової величини:\n",
    "```\n",
    "```\n",
    "```\n",
    "```\n",
    "```\n",
    "```\n",
    "```\n",
    "Максимальна оцінка: 2 бали\n",
    "Рекомендований час: 2хв\n",
    "```"
   ]
  },
  {
   "cell_type": "code",
   "execution_count": null,
   "metadata": {
    "collapsed": true
   },
   "outputs": [],
   "source": []
  },
  {
   "cell_type": "markdown",
   "metadata": {},
   "source": [
    "#### 12.2. Вибірку з розподілу Бернулі:\n",
    "```\n",
    "```\n",
    "```\n",
    "```\n",
    "```\n",
    "```\n",
    "```\n",
    "Максимальна оцінка: 2 бали\n",
    "Рекомендований час: 2хв\n",
    "```"
   ]
  },
  {
   "cell_type": "code",
   "execution_count": null,
   "metadata": {
    "collapsed": true
   },
   "outputs": [],
   "source": []
  },
  {
   "cell_type": "markdown",
   "metadata": {},
   "source": [
    "#### 12.3. Вибірку з біноміального розподілу:\n",
    "```\n",
    "```\n",
    "```\n",
    "```\n",
    "```\n",
    "```\n",
    "```\n",
    "Максимальна оцінка: 2 бали\n",
    "Рекомендований час: 2хв\n",
    "```"
   ]
  },
  {
   "cell_type": "code",
   "execution_count": null,
   "metadata": {
    "collapsed": true
   },
   "outputs": [],
   "source": []
  },
  {
   "cell_type": "markdown",
   "metadata": {
    "collapsed": true
   },
   "source": [
    "#### 12.4. Вибірку з розподілу Пуассона:\n",
    "```\n",
    "```\n",
    "```\n",
    "```\n",
    "```\n",
    "```\n",
    "```\n",
    "Максимальна оцінка: 2 бали\n",
    "Рекомендований час: 2хв\n",
    "```"
   ]
  },
  {
   "cell_type": "code",
   "execution_count": null,
   "metadata": {
    "collapsed": true
   },
   "outputs": [],
   "source": []
  }
 ],
 "metadata": {
  "kernelspec": {
   "display_name": "Python 3",
   "language": "python",
   "name": "python3"
  },
  "language_info": {
   "codemirror_mode": {
    "name": "ipython",
    "version": 3
   },
   "file_extension": ".py",
   "mimetype": "text/x-python",
   "name": "python",
   "nbconvert_exporter": "python",
   "pygments_lexer": "ipython3",
   "version": "3.6.2"
  }
 },
 "nbformat": 4,
 "nbformat_minor": 2
}
